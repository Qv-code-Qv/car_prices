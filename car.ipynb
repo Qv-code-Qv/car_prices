{
 "cells": [
  {
   "cell_type": "code",
   "execution_count": 286,
   "metadata": {},
   "outputs": [],
   "source": [
    "#import des libs\n",
    "import pandas as pd\n",
    "import numpy as np\n",
    "from sklearn.model_selection import train_test_split\n",
    "from sklearn.preprocessing import StandardScaler, OneHotEncoder, LabelEncoder\n",
    "from sklearn.compose import ColumnTransformer\n",
    "from sklearn.linear_model import LinearRegression\n",
    "from sklearn.impute import SimpleImputer\n",
    "import seaborn as sns\n",
    "import matplotlib.pyplot as plt\n",
    "import seaborn as sns\n",
    "import matplotlib.pyplot as plt\n",
    "\n",
    "\n",
    "\n"
   ]
  },
  {
   "cell_type": "code",
   "execution_count": 287,
   "metadata": {},
   "outputs": [],
   "source": [
    "#chemin\n",
    "\n",
    "file_path = \"car_prices.csv\"\n",
    "\n",
    "#read le file\n",
    "\n",
    "df = pd.read_csv(file_path)"
   ]
  },
  {
   "cell_type": "code",
   "execution_count": 288,
   "metadata": {},
   "outputs": [
    {
     "data": {
      "text/plain": [
       "year                0\n",
       "make            10301\n",
       "model           10399\n",
       "trim            10651\n",
       "body            13195\n",
       "transmission    65352\n",
       "vin                 4\n",
       "state               0\n",
       "condition       11820\n",
       "odometer           94\n",
       "color             749\n",
       "interior          749\n",
       "seller              0\n",
       "mmr                38\n",
       "sellingprice       12\n",
       "saledate           12\n",
       "dtype: int64"
      ]
     },
     "execution_count": 288,
     "metadata": {},
     "output_type": "execute_result"
    }
   ],
   "source": [
    "#Avant suppression des lignes \n",
    "df.isna().sum()"
   ]
  },
  {
   "cell_type": "code",
   "execution_count": 289,
   "metadata": {},
   "outputs": [
    {
     "data": {
      "text/plain": [
       "year                0\n",
       "make                0\n",
       "body                0\n",
       "state               0\n",
       "condition       11820\n",
       "odometer           94\n",
       "color               0\n",
       "interior            0\n",
       "seller              0\n",
       "mmr                26\n",
       "sellingprice        0\n",
       "dtype: int64"
      ]
     },
     "execution_count": 289,
     "metadata": {},
     "output_type": "execute_result"
    }
   ],
   "source": [
    "\n",
    "\n",
    "#fill with 'Other' category\n",
    "df['make'].fillna('Other', inplace=True)\n",
    "df['color'].fillna('Other', inplace=True)\n",
    "\n",
    "#fill with 'Mode'\n",
    "df['body'].fillna(df.body.mode()[0], inplace=True)\n",
    "df['interior'].fillna(df['interior'].mode()[0], inplace=True)\n",
    "\n",
    "#remove null values\n",
    "df.dropna(subset=['saledate'], inplace=True)\n",
    "\n",
    "#supprime la colonnes spécifié\n",
    "df = df.drop(['saledate'], axis=1)\n",
    "df = df.drop(['model'], axis=1)\n",
    "df = df.drop(['vin'], axis=1)\n",
    "df = df.drop(['transmission'], axis=1)\n",
    "df = df.drop(['trim'], axis=1)\n",
    "\n",
    "df.isna().sum()\n"
   ]
  },
  {
   "cell_type": "code",
   "execution_count": 290,
   "metadata": {},
   "outputs": [
    {
     "name": "stdout",
     "output_type": "stream",
     "text": [
      "Features (X):\n",
      "   year   make   body state  condition  odometer  color interior  \\\n",
      "0  2015    Kia    SUV    ca        5.0   16639.0  white    black   \n",
      "1  2015    Kia    SUV    ca        5.0    9393.0  white    beige   \n",
      "2  2014    BMW  Sedan    ca       45.0    1331.0   gray    black   \n",
      "3  2015  Volvo  Sedan    ca       41.0   14282.0  white    black   \n",
      "4  2014    BMW  Sedan    ca       43.0    2641.0   gray    black   \n",
      "\n",
      "                                   seller      mmr  \n",
      "0                 kia motors america  inc  20500.0  \n",
      "1                 kia motors america  inc  20800.0  \n",
      "2  financial services remarketing (lease)  31900.0  \n",
      "3                 volvo na rep/world omni  27500.0  \n",
      "4  financial services remarketing (lease)  66000.0  \n",
      "\n",
      "Target Variable (y):\n",
      "0    21500.0\n",
      "1    21500.0\n",
      "2    30000.0\n",
      "3    27750.0\n",
      "4    67000.0\n",
      "Name: sellingprice, dtype: float64\n",
      "...Done.\n"
     ]
    }
   ],
   "source": [
    "# Assuming your DataFrame is named 'df'\n",
    "\n",
    "# Create a list containing the feature column names\n",
    "features_list = [\"year\", \"make\", \"body\",\n",
    "                 \"state\", \"condition\", \"odometer\", \"color\", \"interior\", \"seller\", \"mmr\"]\n",
    "\n",
    "# Select features (all columns except 'sellingprice')\n",
    "X = df[features_list]\n",
    "\n",
    "# Select the target variable (sellingprice)\n",
    "y = df['sellingprice']\n",
    "\n",
    "# Print confirmation message\n",
    "print(\"Features (X):\")\n",
    "print(X.head())\n",
    "\n",
    "print(\"\\nTarget Variable (y):\")\n",
    "print(y.head())\n",
    "\n",
    "print(\"...Done.\")"
   ]
  },
  {
   "cell_type": "code",
   "execution_count": 291,
   "metadata": {},
   "outputs": [
    {
     "data": {
      "text/plain": [
       "year            False\n",
       "make            False\n",
       "body            False\n",
       "state           False\n",
       "condition        True\n",
       "odometer         True\n",
       "color           False\n",
       "interior        False\n",
       "seller          False\n",
       "mmr              True\n",
       "sellingprice    False\n",
       "dtype: bool"
      ]
     },
     "execution_count": 291,
     "metadata": {},
     "output_type": "execute_result"
    }
   ],
   "source": [
    "df.isnull().any()"
   ]
  },
  {
   "cell_type": "code",
   "execution_count": 292,
   "metadata": {},
   "outputs": [
    {
     "name": "stdout",
     "output_type": "stream",
     "text": [
      "Splitting dataset into train set and test set...\n",
      "...Done.\n"
     ]
    }
   ],
   "source": [
    "# Divide dataset Train set & Test set \n",
    "## First we import train_test_split\n",
    "\n",
    "\n",
    "print(\"Splitting dataset into train set and test set...\")\n",
    "## Then we use train_test_split\n",
    "X_train, X_test, y_train, y_test = train_test_split(X, y, \n",
    "                                                    test_size=0.2, \n",
    "                                                    random_state=0) # Allows you to stratify your sample. \n",
    "                                                                # Meaning, you will have the same\n",
    "                                                                # proportion of categories in test \n",
    "                                                                # and train set\n",
    "\n",
    "print(\"...Done.\")  "
   ]
  },
  {
   "cell_type": "code",
   "execution_count": 293,
   "metadata": {},
   "outputs": [
    {
     "name": "stdout",
     "output_type": "stream",
     "text": [
      "Imputing missing values...\n",
      "        year           make   body state  condition  odometer   color  \\\n",
      "423720  2013        Hyundai  sedan    ca       35.0   19868.0   brown   \n",
      "405371  2012          Other  Sedan    ca       43.0   42124.0   white   \n",
      "276233  2014         Toyota  Sedan    fl       21.0   18492.0    gray   \n",
      "501838  2014      Chevrolet  sedan    va       42.0   13291.0   black   \n",
      "29933   2014         Nissan  Sedan    il       43.0    4666.0  silver   \n",
      "...      ...            ...    ...   ...        ...       ...     ...   \n",
      "359784  2009       Cadillac    SUV    ca       38.0   67465.0  silver   \n",
      "152315  2012         Nissan  Sedan    tx       26.0   39318.0   white   \n",
      "117952  2005         Toyota  Sedan    ca       29.0  133859.0    gray   \n",
      "435836  2013           Ford    SUV    fl       28.0   34693.0     red   \n",
      "305711  2014  Mercedes-Benz  Sedan    nv       44.0   26227.0   white   \n",
      "\n",
      "       interior                                  seller      mmr  \n",
      "423720      tan                   hyundai motor finance  11650.0  \n",
      "405371    black  financial services remarketing (lease)  38000.0  \n",
      "276233     gray            florida auto financial group  16350.0  \n",
      "501838     gray                            gm financial  11450.0  \n",
      "29933     black                        first merit bank  15550.0  \n",
      "...         ...                                     ...      ...  \n",
      "359784    black                      ontario auto sales  26400.0  \n",
      "152315     gray                      nissan-infiniti lt  11750.0  \n",
      "117952    black                  nuvision financial fcu   6225.0  \n",
      "435836    black           ford motor credit company llc  26000.0  \n",
      "305711        —        mercedes-benz financial services  39700.0  \n",
      "\n",
      "[447060 rows x 10 columns]\n",
      "\n",
      "...Done!\n",
      "        year           make   body state  condition  odometer   color  \\\n",
      "423720  2013        Hyundai  sedan    ca       35.0   19868.0   brown   \n",
      "405371  2012          Other  Sedan    ca       43.0   42124.0   white   \n",
      "276233  2014         Toyota  Sedan    fl       21.0   18492.0    gray   \n",
      "501838  2014      Chevrolet  sedan    va       42.0   13291.0   black   \n",
      "29933   2014         Nissan  Sedan    il       43.0    4666.0  silver   \n",
      "...      ...            ...    ...   ...        ...       ...     ...   \n",
      "359784  2009       Cadillac    SUV    ca       38.0   67465.0  silver   \n",
      "152315  2012         Nissan  Sedan    tx       26.0   39318.0   white   \n",
      "117952  2005         Toyota  Sedan    ca       29.0  133859.0    gray   \n",
      "435836  2013           Ford    SUV    fl       28.0   34693.0     red   \n",
      "305711  2014  Mercedes-Benz  Sedan    nv       44.0   26227.0   white   \n",
      "\n",
      "       interior                                  seller      mmr  \n",
      "423720      tan                   hyundai motor finance  11650.0  \n",
      "405371    black  financial services remarketing (lease)  38000.0  \n",
      "276233     gray            florida auto financial group  16350.0  \n",
      "501838     gray                            gm financial  11450.0  \n",
      "29933     black                        first merit bank  15550.0  \n",
      "...         ...                                     ...      ...  \n",
      "359784    black                      ontario auto sales  26400.0  \n",
      "152315     gray                      nissan-infiniti lt  11750.0  \n",
      "117952    black                  nuvision financial fcu   6225.0  \n",
      "435836    black           ford motor credit company llc  26000.0  \n",
      "305711        —        mercedes-benz financial services  39700.0  \n",
      "\n",
      "[447060 rows x 10 columns]\n",
      "\n"
     ]
    }
   ],
   "source": [
    "# Missing values\n",
    "print(\"Imputing missing values...\")\n",
    "print(X_train)\n",
    "print()\n",
    "imputer = SimpleImputer(strategy=\"mean\") # Instanciate class of SimpleImputer with strategy of mean\n",
    "\n",
    "X_train.iloc[:,[4,5,9]] = imputer.fit_transform(X_train.iloc[:,[4,5,9]]) # Fit and transform columns where there are missing values\n",
    "print(\"...Done!\")\n",
    "print(X_train) \n",
    "print()  "
   ]
  },
  {
   "cell_type": "code",
   "execution_count": 294,
   "metadata": {},
   "outputs": [
    {
     "name": "stdout",
     "output_type": "stream",
     "text": [
      "[(0, 'year'), (1, 'make'), (2, 'body'), (3, 'state'), (4, 'condition'), (5, 'odometer'), (6, 'color'), (7, 'interior'), (8, 'seller'), (9, 'mmr'), (10, 'sellingprice')]\n"
     ]
    }
   ],
   "source": [
    "# Accéder à l'objet index\n",
    "index_df = df.index\n",
    "\n",
    "# Accéder aux noms des colonnes\n",
    "noms_colonnes = df.columns\n",
    "\n",
    "# Combiner les index et les noms des colonnes\n",
    "index_avec_colonnes = list(zip(index_df, noms_colonnes))\n",
    "\n",
    "# Afficher les index avec les noms des colonnes\n",
    "print(index_avec_colonnes)"
   ]
  },
  {
   "cell_type": "code",
   "execution_count": 295,
   "metadata": {},
   "outputs": [
    {
     "name": "stdout",
     "output_type": "stream",
     "text": [
      "Imputing missing values...\n",
      "        year        make       body state  condition  odometer   color  \\\n",
      "110740  2013      Nissan      Sedan    nj       37.0   16487.0       —   \n",
      "405741  2015       Mazda        SUV    az       38.0   32578.0     red   \n",
      "4775    2002     Hyundai      Sedan    ca        NaN  190680.0   white   \n",
      "255183  2014         Kia      Sedan    wa       42.0   10141.0     red   \n",
      "375306  2006        Ford    Minivan    ma       21.0   38685.0    gray   \n",
      "...      ...         ...        ...   ...        ...       ...     ...   \n",
      "377973  2009      Saturn      Sedan    mn       34.0   93276.0  silver   \n",
      "163765  2002   Chevrolet      Sedan    mo       19.0  280581.0     red   \n",
      "229684  2007   Chevrolet      Sedan    mn       26.0  105923.0    gold   \n",
      "472459  2012       Acura        suv    wa        4.0   31318.0   white   \n",
      "126337  2011  Volkswagen  Hatchback    fl       24.0   71542.0   black   \n",
      "\n",
      "       interior                                 seller      mmr  \n",
      "110740     gray    nissan motor acceptance corporation  12100.0  \n",
      "405741      tan                       avis corporation  17300.0  \n",
      "4775          —                    acura of serramonte    850.0  \n",
      "255183     gray                kia motors america  inc  12750.0  \n",
      "375306     gray  ge fleet services for itself/servicer   2875.0  \n",
      "...         ...                                    ...      ...  \n",
      "377973     gray                     santander consumer   5350.0  \n",
      "163765     gray                           dt inventory    525.0  \n",
      "229684    beige                         lease plan usa   4550.0  \n",
      "472459    beige                     toyota of kirkland  26800.0  \n",
      "126337        —                     santander consumer   9100.0  \n",
      "\n",
      "[111765 rows x 10 columns]\n",
      "\n",
      "...Done!\n",
      "        year        make       body state  condition  odometer   color  \\\n",
      "110740  2013      Nissan      Sedan    nj  37.000000   16487.0       —   \n",
      "405741  2015       Mazda        SUV    az  38.000000   32578.0     red   \n",
      "4775    2002     Hyundai      Sedan    ca  30.714506  190680.0   white   \n",
      "255183  2014         Kia      Sedan    wa  42.000000   10141.0     red   \n",
      "375306  2006        Ford    Minivan    ma  21.000000   38685.0    gray   \n",
      "...      ...         ...        ...   ...        ...       ...     ...   \n",
      "377973  2009      Saturn      Sedan    mn  34.000000   93276.0  silver   \n",
      "163765  2002   Chevrolet      Sedan    mo  19.000000  280581.0     red   \n",
      "229684  2007   Chevrolet      Sedan    mn  26.000000  105923.0    gold   \n",
      "472459  2012       Acura        suv    wa   4.000000   31318.0   white   \n",
      "126337  2011  Volkswagen  Hatchback    fl  24.000000   71542.0   black   \n",
      "\n",
      "       interior                                 seller      mmr  \n",
      "110740     gray    nissan motor acceptance corporation  12100.0  \n",
      "405741      tan                       avis corporation  17300.0  \n",
      "4775          —                    acura of serramonte    850.0  \n",
      "255183     gray                kia motors america  inc  12750.0  \n",
      "375306     gray  ge fleet services for itself/servicer   2875.0  \n",
      "...         ...                                    ...      ...  \n",
      "377973     gray                     santander consumer   5350.0  \n",
      "163765     gray                           dt inventory    525.0  \n",
      "229684    beige                         lease plan usa   4550.0  \n",
      "472459    beige                     toyota of kirkland  26800.0  \n",
      "126337        —                     santander consumer   9100.0  \n",
      "\n",
      "[111765 rows x 10 columns]\n",
      "\n"
     ]
    }
   ],
   "source": [
    "# Missing values\n",
    "print(\"Imputing missing values...\")\n",
    "print(X_test)\n",
    "print()\n",
    "imputer = SimpleImputer(strategy=\"mean\") # Instanciate class of SimpleImputer with strategy of mean\n",
    "\n",
    "X_test.iloc[:,[4,5,9]] = imputer.fit_transform(X_test.iloc[:,[4,5,9]]) # Fit and transform columns where there are missing values\n",
    "print(\"...Done!\")\n",
    "print(X_test) \n",
    "print() "
   ]
  },
  {
   "cell_type": "code",
   "execution_count": 296,
   "metadata": {},
   "outputs": [
    {
     "name": "stdout",
     "output_type": "stream",
     "text": [
      "Encoding categorical features and standardizing numerical features...\n",
      "\n",
      "...Done.\n",
      "  (0, 31)\t1.0\n",
      "  (0, 53)\t1.0\n",
      "  (0, 206)\t1.0\n",
      "  (0, 240)\t1.0\n",
      "  (0, 301)\t1.0\n",
      "  (0, 331)\t1.0\n",
      "  (0, 6330)\t1.0\n",
      "  (0, 13561)\t0.32703567993171584\n",
      "  (0, 13562)\t-0.907199415112122\n",
      "  (0, 13563)\t-0.21891184666507\n",
      "  (1, 30)\t1.0\n",
      "  (1, 72)\t1.0\n",
      "  (1, 165)\t1.0\n",
      "  (1, 240)\t1.0\n",
      "  (1, 315)\t1.0\n",
      "  (1, 319)\t1.0\n",
      "  (1, 4946)\t1.0\n",
      "  (1, 13561)\t0.9301532305987624\n",
      "  (1, 13562)\t-0.49040899240908964\n",
      "  (1, 13563)\t2.5002133434527405\n",
      "  (2, 32)\t1.0\n",
      "  (2, 84)\t1.0\n",
      "  (2, 165)\t1.0\n",
      "  (2, 242)\t1.0\n",
      "  (2, 305)\t1.0\n",
      "  (2, 324)\t1.0\n",
      "  (2, 5164)\t1.0\n",
      "  (2, 13561)\t-0.7284200337356157\n",
      "  (2, 13562)\t-0.9329679099737042\n",
      "  (2, 13563)\t0.26609340546220556\n",
      "  (3, 32)\t1.0\n",
      "  (3, 41)\t1.0\n",
      "  (3, 206)\t1.0\n",
      "  (3, 272)\t1.0\n",
      "  (3, 299)\t1.0\n",
      "  (3, 324)\t1.0\n",
      "  (3, 5620)\t1.0\n",
      "  (3, 13561)\t0.8547635367653815\n",
      "  (3, 13562)\t-1.030367576961414\n",
      "  (3, 13563)\t-0.2395503680321881\n",
      "  (4, 32)\t1.0\n",
      "  (4, 70)\t1.0\n",
      "  (4, 165)\t1.0\n",
      "  (4, 245)\t1.0\n",
      "  (4, 313)\t1.0\n",
      "  (4, 319)\t1.0\n",
      "  (4, 5020)\t1.0\n",
      "  (4, 13561)\t0.9301532305987624\n",
      "  (4, 13562)\t-1.1918888474418983\n",
      "  (4, 13563)\t0.1835393199937331\n",
      "\n"
     ]
    }
   ],
   "source": [
    "# Encoding categorical features and standardizing numeric features\n",
    "print(\"Encoding categorical features and standardizing numerical features...\")\n",
    "print()\n",
    "\n",
    "\n",
    "numeric_features = [4,5,9]\n",
    "numeric_transformer = StandardScaler()\n",
    "\n",
    "categorical_features = [0, 1, 2, 3, 6, 7, 8]\n",
    "categorical_transformer = OneHotEncoder(handle_unknown='ignore')\n",
    "\n",
    "featureencoder = ColumnTransformer(\n",
    "    transformers=[\n",
    "        ('cat', categorical_transformer, categorical_features),    \n",
    "        ('num', numeric_transformer, numeric_features)\n",
    "        ]\n",
    "    )\n",
    "\n",
    "X_train = featureencoder.fit_transform(X_train)\n",
    "print(\"...Done.\")\n",
    "print(X_train[:5]) # print first 5 rows (not using iloc since now X_train became a numpy array)\n",
    "print()"
   ]
  },
  {
   "cell_type": "code",
   "execution_count": 297,
   "metadata": {},
   "outputs": [
    {
     "name": "stdout",
     "output_type": "stream",
     "text": [
      "--- Testing pipeline ---\n",
      "  (0, 31)\t1.0\n",
      "  (0, 70)\t1.0\n",
      "  (0, 165)\t1.0\n",
      "  (0, 256)\t1.0\n",
      "  (0, 317)\t1.0\n",
      "  (0, 324)\t1.0\n",
      "  (0, 8951)\t1.0\n",
      "  (0, 13561)\t0.47781506759847747\n",
      "  (0, 13562)\t-0.9705157531404718\n",
      "  (0, 13563)\t-0.17247517358905426\n",
      "  (1, 33)\t1.0\n",
      "  (1, 66)\t1.0\n",
      "  (1, 164)\t1.0\n",
      "  (1, 239)\t1.0\n",
      "  (1, 312)\t1.0\n",
      "  (1, 331)\t1.0\n",
      "  (1, 1755)\t1.0\n",
      "  (1, 13561)\t0.5532047614318583\n",
      "  (1, 13562)\t-0.6691779255113158\n",
      "  (1, 13563)\t0.36412638195601654\n",
      "  (2, 20)\t1.0\n",
      "  (2, 53)\t1.0\n",
      "  (2, 165)\t1.0\n",
      "  (2, 240)\t1.0\n",
      "  (2, 315)\t1.0\n",
      "  (2, 334)\t1.0\n",
      "  (2, 616)\t1.0\n",
      "  (2, 13561)\t0.00395362194406461\n",
      "  (2, 13562)\t2.2916146432429447\n",
      "  (2, 13563)\t-1.3333920004894477\n",
      "  (3, 32)\t1.0\n",
      "  (3, 58)\t1.0\n",
      "  (3, 165)\t1.0\n",
      "  (3, 273)\t1.0\n",
      "  (3, 312)\t1.0\n",
      "  (3, 324)\t1.0\n",
      "  (3, 7017)\t1.0\n",
      "  (3, 13561)\t0.8547635367653815\n",
      "  (3, 13562)\t-1.0893579540064604\n",
      "  (3, 13563)\t-0.10539997914592039\n",
      "  (4, 24)\t1.0\n",
      "  (4, 48)\t1.0\n",
      "  (4, 156)\t1.0\n",
      "  (4, 248)\t1.0\n",
      "  (4, 305)\t1.0\n",
      "  (4, 324)\t1.0\n",
      "  (4, 5485)\t1.0\n",
      "  (4, 13561)\t-0.7284200337356157\n",
      "  (4, 13562)\t-0.5548115024592212\n",
      "  (4, 13563)\t-1.124426971647377\n"
     ]
    }
   ],
   "source": [
    "\n",
    "### Testing pipeline ###\n",
    "print(\"--- Testing pipeline ---\")\n",
    "\n",
    "# Standardizing numeric features\n",
    "###print(\"Standardizing numerical features...\")\n",
    "###print(X_test)\n",
    "###print()\n",
    "\n",
    "X_test = featureencoder.transform(X_test)\n",
    "\n",
    "###print(\"...Done.\")\n",
    "print(X_test[:5]) # print first 5 rows (not using iloc since now X_test became a numpy array)\n",
    "###print()"
   ]
  },
  {
   "cell_type": "code",
   "execution_count": 298,
   "metadata": {},
   "outputs": [
    {
     "name": "stdout",
     "output_type": "stream",
     "text": [
      "Train model...\n",
      "...Done.\n"
     ]
    }
   ],
   "source": [
    "# Train model\n",
    "print(\"Train model...\")\n",
    "regressor = LinearRegression()\n",
    "regressor.fit(X_train, y_train) # This steps is the actual training !\n",
    "print(\"...Done.\")"
   ]
  },
  {
   "cell_type": "code",
   "execution_count": 299,
   "metadata": {},
   "outputs": [
    {
     "name": "stdout",
     "output_type": "stream",
     "text": [
      "Predictions on training set...\n",
      "...Done.\n",
      "[11798.64909472 38077.53052165 14789.69385157 11422.51784218\n",
      " 15183.3517965 ]\n",
      "\n"
     ]
    }
   ],
   "source": [
    "# Predictions on training set\n",
    "print(\"Predictions on training set...\")\n",
    "y_train_pred = regressor.predict(X_train)\n",
    "print(\"...Done.\")\n",
    "print(y_train_pred[:5]) # print first 5 rows (not using iloc since now y_train became a numpy array)\n",
    "print()"
   ]
  },
  {
   "cell_type": "code",
   "execution_count": 300,
   "metadata": {},
   "outputs": [
    {
     "name": "stdout",
     "output_type": "stream",
     "text": [
      "Predictions on test set...\n",
      "...Done.\n",
      "[11516.83967188 17639.0809258   1012.55210677 13267.69281755\n",
      "  2162.45096476]\n",
      "\n"
     ]
    }
   ],
   "source": [
    "# Predictions on test set\n",
    "print(\"Predictions on test set...\")\n",
    "y_test_pred = regressor.predict(X_test)\n",
    "print(\"...Done.\")\n",
    "print(y_test_pred[:5])\n",
    "print()"
   ]
  },
  {
   "cell_type": "code",
   "execution_count": 301,
   "metadata": {},
   "outputs": [
    {
     "name": "stdout",
     "output_type": "stream",
     "text": [
      "--- Assessing the performances of the model ---\n",
      "R2 score on training set :  0.9760337993993995\n",
      "R2 score on test set :  0.9704574797295535\n"
     ]
    }
   ],
   "source": [
    "# Performance assessment\n",
    "print(\"--- Assessing the performances of the model ---\")\n",
    "\n",
    "# Print R^2 scores\n",
    "print(\"R2 score on training set : \", regressor.score(X_train, y_train))\n",
    "print(\"R2 score on test set : \", regressor.score(X_test, y_test))"
   ]
  }
 ],
 "metadata": {
  "kernelspec": {
   "display_name": "base",
   "language": "python",
   "name": "python3"
  },
  "language_info": {
   "codemirror_mode": {
    "name": "ipython",
    "version": 3
   },
   "file_extension": ".py",
   "mimetype": "text/x-python",
   "name": "python",
   "nbconvert_exporter": "python",
   "pygments_lexer": "ipython3",
   "version": "3.11.5"
  }
 },
 "nbformat": 4,
 "nbformat_minor": 2
}
