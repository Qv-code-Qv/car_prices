{
 "cells": [
  {
   "cell_type": "code",
   "execution_count": 3,
   "metadata": {},
   "outputs": [],
   "source": [
    "import pandas as pd\n",
    "\n",
    "c = pd.read_csv(\"car_prices.csv\")\n",
    "### Preview first 15 rows of your dataset\n"
   ]
  },
  {
   "cell_type": "code",
   "execution_count": 10,
   "metadata": {},
   "outputs": [
    {
     "name": "stdout",
     "output_type": "stream",
     "text": [
      "object\n"
     ]
    }
   ],
   "source": [
    "print(c[\"color\"].dtype)"
   ]
  },
  {
   "cell_type": "code",
   "execution_count": 11,
   "metadata": {},
   "outputs": [],
   "source": [
    "# Convert non-numeric values to NaN\n",
    "c[\"color\"] = pd.to_numeric(c[\"color\"], errors='coerce')"
   ]
  },
  {
   "cell_type": "code",
   "execution_count": 12,
   "metadata": {},
   "outputs": [],
   "source": [
    "# Calculate the mean, excluding NaN values\n",
    "x = c[\"color\"].mean()"
   ]
  },
  {
   "cell_type": "code",
   "execution_count": 13,
   "metadata": {},
   "outputs": [],
   "source": [
    "# Fill missing values with the calculated mean\n",
    "c[\"color\"].fillna(x, inplace=True)"
   ]
  },
  {
   "cell_type": "code",
   "execution_count": 16,
   "metadata": {},
   "outputs": [
    {
     "name": "stdout",
     "output_type": "stream",
     "text": [
      "        year    make                model         trim       body  \\\n",
      "0       2015     Kia              Sorento           LX        SUV   \n",
      "1       2015     Kia              Sorento           LX        SUV   \n",
      "2       2014     BMW             3 Series   328i SULEV      Sedan   \n",
      "3       2015   Volvo                  S60           T5      Sedan   \n",
      "4       2014     BMW  6 Series Gran Coupe         650i      Sedan   \n",
      "...      ...     ...                  ...          ...        ...   \n",
      "558832  2015     Kia                 K900       Luxury      Sedan   \n",
      "558833  2012     Ram                 2500  Power Wagon   Crew Cab   \n",
      "558834  2012     BMW                   X5    xDrive35d        SUV   \n",
      "558835  2015  Nissan               Altima        2.5 S      sedan   \n",
      "558836  2014    Ford                F-150          XLT  SuperCrew   \n",
      "\n",
      "       transmission                vin state  condition  odometer  \\\n",
      "0         automatic  5xyktca69fg566472    ca        5.0   16639.0   \n",
      "1         automatic  5xyktca69fg561319    ca        5.0    9393.0   \n",
      "2         automatic  wba3c1c51ek116351    ca       45.0    1331.0   \n",
      "3         automatic  yv1612tb4f1310987    ca       41.0   14282.0   \n",
      "4         automatic  wba6b2c57ed129731    ca       43.0    2641.0   \n",
      "...             ...                ...   ...        ...       ...   \n",
      "558832          NaN  knalw4d4xf6019304    in       45.0   18255.0   \n",
      "558833    automatic  3c6td5et6cg112407    wa        5.0   54393.0   \n",
      "558834    automatic  5uxzw0c58cl668465    ca       48.0   50561.0   \n",
      "558835    automatic  1n4al3ap0fc216050    ga       38.0   16658.0   \n",
      "558836    automatic  1ftfw1et2eke87277    ca       34.0   15008.0   \n",
      "\n",
      "              color interior  \\\n",
      "0       9048.115385    black   \n",
      "1       9048.115385    beige   \n",
      "2       9048.115385    black   \n",
      "3       9048.115385    black   \n",
      "4       9048.115385    black   \n",
      "...             ...      ...   \n",
      "558832  9048.115385    black   \n",
      "558833  9048.115385    black   \n",
      "558834  9048.115385    black   \n",
      "558835  9048.115385    black   \n",
      "558836  9048.115385     gray   \n",
      "\n",
      "                                                   seller      mmr  \\\n",
      "0                                 kia motors america  inc  20500.0   \n",
      "1                                 kia motors america  inc  20800.0   \n",
      "2                  financial services remarketing (lease)  31900.0   \n",
      "3                                 volvo na rep/world omni  27500.0   \n",
      "4                  financial services remarketing (lease)  66000.0   \n",
      "...                                                   ...      ...   \n",
      "558832                                   avis corporation  35300.0   \n",
      "558833                                    i -5 uhlmann rv  30200.0   \n",
      "558834             financial services remarketing (lease)  29800.0   \n",
      "558835  enterprise vehicle exchange / tra / rental / t...  15100.0   \n",
      "558836                   ford motor credit company llc pd  29600.0   \n",
      "\n",
      "        sellingprice                                 saledate  \n",
      "0            21500.0  Tue Dec 16 2014 12:30:00 GMT-0800 (PST)  \n",
      "1            21500.0  Tue Dec 16 2014 12:30:00 GMT-0800 (PST)  \n",
      "2            30000.0  Thu Jan 15 2015 04:30:00 GMT-0800 (PST)  \n",
      "3            27750.0  Thu Jan 29 2015 04:30:00 GMT-0800 (PST)  \n",
      "4            67000.0  Thu Dec 18 2014 12:30:00 GMT-0800 (PST)  \n",
      "...              ...                                      ...  \n",
      "558832       33000.0  Thu Jul 09 2015 07:00:00 GMT-0700 (PDT)  \n",
      "558833       30800.0  Wed Jul 08 2015 09:30:00 GMT-0700 (PDT)  \n",
      "558834       34000.0  Wed Jul 08 2015 09:30:00 GMT-0700 (PDT)  \n",
      "558835       11100.0  Thu Jul 09 2015 06:45:00 GMT-0700 (PDT)  \n",
      "558836       26700.0  Thu May 28 2015 05:30:00 GMT-0700 (PDT)  \n",
      "\n",
      "[558837 rows x 16 columns]\n"
     ]
    }
   ],
   "source": [
    "print(c)"
   ]
  },
  {
   "cell_type": "code",
   "execution_count": 17,
   "metadata": {},
   "outputs": [
    {
     "name": "stdout",
     "output_type": "stream",
     "text": [
      "<class 'pandas.core.frame.DataFrame'>\n",
      "RangeIndex: 558837 entries, 0 to 558836\n",
      "Data columns (total 16 columns):\n",
      " #   Column        Non-Null Count   Dtype  \n",
      "---  ------        --------------   -----  \n",
      " 0   year          558837 non-null  int64  \n",
      " 1   make          548536 non-null  object \n",
      " 2   model         548438 non-null  object \n",
      " 3   trim          548186 non-null  object \n",
      " 4   body          545642 non-null  object \n",
      " 5   transmission  493485 non-null  object \n",
      " 6   vin           558833 non-null  object \n",
      " 7   state         558837 non-null  object \n",
      " 8   condition     547017 non-null  float64\n",
      " 9   odometer      558743 non-null  float64\n",
      " 10  color         558837 non-null  float64\n",
      " 11  interior      558088 non-null  object \n",
      " 12  seller        558837 non-null  object \n",
      " 13  mmr           558799 non-null  float64\n",
      " 14  sellingprice  558825 non-null  float64\n",
      " 15  saledate      558825 non-null  object \n",
      "dtypes: float64(5), int64(1), object(10)\n",
      "memory usage: 68.2+ MB\n"
     ]
    }
   ],
   "source": [
    "c.info()"
   ]
  },
  {
   "cell_type": "code",
   "execution_count": null,
   "metadata": {},
   "outputs": [],
   "source": []
  }
 ],
 "metadata": {
  "kernelspec": {
   "display_name": "base",
   "language": "python",
   "name": "python3"
  },
  "language_info": {
   "codemirror_mode": {
    "name": "ipython",
    "version": 3
   },
   "file_extension": ".py",
   "mimetype": "text/x-python",
   "name": "python",
   "nbconvert_exporter": "python",
   "pygments_lexer": "ipython3",
   "version": "3.11.5"
  }
 },
 "nbformat": 4,
 "nbformat_minor": 2
}
