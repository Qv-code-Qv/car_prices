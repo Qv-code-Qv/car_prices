{
 "cells": [
  {
   "cell_type": "code",
   "execution_count": 280,
   "metadata": {},
   "outputs": [],
   "source": [
    "#import des libs\n",
    "import pandas as pd\n",
    "import numpy as np\n",
    "from sklearn.model_selection import train_test_split\n",
    "from sklearn.preprocessing import StandardScaler, OneHotEncoder, LabelEncoder\n",
    "from sklearn.compose import ColumnTransformer\n",
    "from sklearn.linear_model import LinearRegression\n",
    "from sklearn.impute import SimpleImputer\n",
    "import seaborn as sns\n",
    "import matplotlib.pyplot as plt\n",
    "import seaborn as sns\n",
    "from sklearn.compose import ColumnTransformer\n",
    "from sklearn.pipeline import Pipeline\n",
    "from sklearn.impute import SimpleImputer\n",
    "from sklearn.model_selection import train_test_split\n",
    "from sklearn.ensemble import RandomForestRegressor\n",
    "from sklearn.metrics import r2_score"
   ]
  },
  {
   "cell_type": "code",
   "execution_count": 281,
   "metadata": {},
   "outputs": [],
   "source": [
    "#chemin\n",
    "\n",
    "file_path = \"car_prices.csv\"\n",
    "\n",
    "#read le file\n",
    "\n",
    "df = pd.read_csv(file_path)"
   ]
  },
  {
   "cell_type": "code",
   "execution_count": 282,
   "metadata": {},
   "outputs": [
    {
     "data": {
      "text/html": [
       "<div>\n",
       "<style scoped>\n",
       "    .dataframe tbody tr th:only-of-type {\n",
       "        vertical-align: middle;\n",
       "    }\n",
       "\n",
       "    .dataframe tbody tr th {\n",
       "        vertical-align: top;\n",
       "    }\n",
       "\n",
       "    .dataframe thead th {\n",
       "        text-align: right;\n",
       "    }\n",
       "</style>\n",
       "<table border=\"1\" class=\"dataframe\">\n",
       "  <thead>\n",
       "    <tr style=\"text-align: right;\">\n",
       "      <th></th>\n",
       "      <th>year</th>\n",
       "      <th>make</th>\n",
       "      <th>model</th>\n",
       "      <th>trim</th>\n",
       "      <th>body</th>\n",
       "      <th>transmission</th>\n",
       "      <th>vin</th>\n",
       "      <th>state</th>\n",
       "      <th>condition</th>\n",
       "      <th>odometer</th>\n",
       "      <th>color</th>\n",
       "      <th>interior</th>\n",
       "      <th>seller</th>\n",
       "      <th>mmr</th>\n",
       "      <th>sellingprice</th>\n",
       "      <th>saledate</th>\n",
       "    </tr>\n",
       "  </thead>\n",
       "  <tbody>\n",
       "    <tr>\n",
       "      <th>0</th>\n",
       "      <td>2015</td>\n",
       "      <td>Kia</td>\n",
       "      <td>Sorento</td>\n",
       "      <td>LX</td>\n",
       "      <td>SUV</td>\n",
       "      <td>automatic</td>\n",
       "      <td>5xyktca69fg566472</td>\n",
       "      <td>ca</td>\n",
       "      <td>5.0</td>\n",
       "      <td>16639.0</td>\n",
       "      <td>white</td>\n",
       "      <td>black</td>\n",
       "      <td>kia motors america  inc</td>\n",
       "      <td>20500.0</td>\n",
       "      <td>21500.0</td>\n",
       "      <td>Tue Dec 16 2014 12:30:00 GMT-0800 (PST)</td>\n",
       "    </tr>\n",
       "    <tr>\n",
       "      <th>1</th>\n",
       "      <td>2015</td>\n",
       "      <td>Kia</td>\n",
       "      <td>Sorento</td>\n",
       "      <td>LX</td>\n",
       "      <td>SUV</td>\n",
       "      <td>automatic</td>\n",
       "      <td>5xyktca69fg561319</td>\n",
       "      <td>ca</td>\n",
       "      <td>5.0</td>\n",
       "      <td>9393.0</td>\n",
       "      <td>white</td>\n",
       "      <td>beige</td>\n",
       "      <td>kia motors america  inc</td>\n",
       "      <td>20800.0</td>\n",
       "      <td>21500.0</td>\n",
       "      <td>Tue Dec 16 2014 12:30:00 GMT-0800 (PST)</td>\n",
       "    </tr>\n",
       "    <tr>\n",
       "      <th>2</th>\n",
       "      <td>2014</td>\n",
       "      <td>BMW</td>\n",
       "      <td>3 Series</td>\n",
       "      <td>328i SULEV</td>\n",
       "      <td>Sedan</td>\n",
       "      <td>automatic</td>\n",
       "      <td>wba3c1c51ek116351</td>\n",
       "      <td>ca</td>\n",
       "      <td>45.0</td>\n",
       "      <td>1331.0</td>\n",
       "      <td>gray</td>\n",
       "      <td>black</td>\n",
       "      <td>financial services remarketing (lease)</td>\n",
       "      <td>31900.0</td>\n",
       "      <td>30000.0</td>\n",
       "      <td>Thu Jan 15 2015 04:30:00 GMT-0800 (PST)</td>\n",
       "    </tr>\n",
       "    <tr>\n",
       "      <th>3</th>\n",
       "      <td>2015</td>\n",
       "      <td>Volvo</td>\n",
       "      <td>S60</td>\n",
       "      <td>T5</td>\n",
       "      <td>Sedan</td>\n",
       "      <td>automatic</td>\n",
       "      <td>yv1612tb4f1310987</td>\n",
       "      <td>ca</td>\n",
       "      <td>41.0</td>\n",
       "      <td>14282.0</td>\n",
       "      <td>white</td>\n",
       "      <td>black</td>\n",
       "      <td>volvo na rep/world omni</td>\n",
       "      <td>27500.0</td>\n",
       "      <td>27750.0</td>\n",
       "      <td>Thu Jan 29 2015 04:30:00 GMT-0800 (PST)</td>\n",
       "    </tr>\n",
       "    <tr>\n",
       "      <th>4</th>\n",
       "      <td>2014</td>\n",
       "      <td>BMW</td>\n",
       "      <td>6 Series Gran Coupe</td>\n",
       "      <td>650i</td>\n",
       "      <td>Sedan</td>\n",
       "      <td>automatic</td>\n",
       "      <td>wba6b2c57ed129731</td>\n",
       "      <td>ca</td>\n",
       "      <td>43.0</td>\n",
       "      <td>2641.0</td>\n",
       "      <td>gray</td>\n",
       "      <td>black</td>\n",
       "      <td>financial services remarketing (lease)</td>\n",
       "      <td>66000.0</td>\n",
       "      <td>67000.0</td>\n",
       "      <td>Thu Dec 18 2014 12:30:00 GMT-0800 (PST)</td>\n",
       "    </tr>\n",
       "  </tbody>\n",
       "</table>\n",
       "</div>"
      ],
      "text/plain": [
       "   year   make                model        trim   body transmission  \\\n",
       "0  2015    Kia              Sorento          LX    SUV    automatic   \n",
       "1  2015    Kia              Sorento          LX    SUV    automatic   \n",
       "2  2014    BMW             3 Series  328i SULEV  Sedan    automatic   \n",
       "3  2015  Volvo                  S60          T5  Sedan    automatic   \n",
       "4  2014    BMW  6 Series Gran Coupe        650i  Sedan    automatic   \n",
       "\n",
       "                 vin state  condition  odometer  color interior  \\\n",
       "0  5xyktca69fg566472    ca        5.0   16639.0  white    black   \n",
       "1  5xyktca69fg561319    ca        5.0    9393.0  white    beige   \n",
       "2  wba3c1c51ek116351    ca       45.0    1331.0   gray    black   \n",
       "3  yv1612tb4f1310987    ca       41.0   14282.0  white    black   \n",
       "4  wba6b2c57ed129731    ca       43.0    2641.0   gray    black   \n",
       "\n",
       "                                   seller      mmr  sellingprice  \\\n",
       "0                 kia motors america  inc  20500.0       21500.0   \n",
       "1                 kia motors america  inc  20800.0       21500.0   \n",
       "2  financial services remarketing (lease)  31900.0       30000.0   \n",
       "3                 volvo na rep/world omni  27500.0       27750.0   \n",
       "4  financial services remarketing (lease)  66000.0       67000.0   \n",
       "\n",
       "                                  saledate  \n",
       "0  Tue Dec 16 2014 12:30:00 GMT-0800 (PST)  \n",
       "1  Tue Dec 16 2014 12:30:00 GMT-0800 (PST)  \n",
       "2  Thu Jan 15 2015 04:30:00 GMT-0800 (PST)  \n",
       "3  Thu Jan 29 2015 04:30:00 GMT-0800 (PST)  \n",
       "4  Thu Dec 18 2014 12:30:00 GMT-0800 (PST)  "
      ]
     },
     "metadata": {},
     "output_type": "display_data"
    }
   ],
   "source": [
    "display(df.head())"
   ]
  },
  {
   "cell_type": "markdown",
   "metadata": {},
   "source": [
    "MODIFICATION DES VARIABLES ET REGROUPEMENT DES COLONNES"
   ]
  },
  {
   "cell_type": "code",
   "execution_count": 283,
   "metadata": {},
   "outputs": [
    {
     "name": "stdout",
     "output_type": "stream",
     "text": [
      "Nombre de lignes : 558837\n",
      "Nombre de colonnes : 16\n"
     ]
    }
   ],
   "source": [
    "print(f\"Nombre de lignes : {df.shape[0]}\")\n",
    "print(f\"Nombre de colonnes : {df.shape[1]}\")"
   ]
  },
  {
   "cell_type": "code",
   "execution_count": 284,
   "metadata": {},
   "outputs": [
    {
     "name": "stdout",
     "output_type": "stream",
     "text": [
      "Types de données\n",
      "year              int64\n",
      "make             object\n",
      "model            object\n",
      "trim             object\n",
      "body             object\n",
      "transmission     object\n",
      "vin              object\n",
      "state            object\n",
      "condition       float64\n",
      "odometer        float64\n",
      "color            object\n",
      "interior         object\n",
      "seller           object\n",
      "mmr             float64\n",
      "sellingprice    float64\n",
      "saledate         object\n",
      "dtype: object\n"
     ]
    }
   ],
   "source": [
    "print(\"Types de données\")\n",
    "print(df.dtypes)"
   ]
  },
  {
   "cell_type": "code",
   "execution_count": 285,
   "metadata": {},
   "outputs": [
    {
     "name": "stdout",
     "output_type": "stream",
     "text": [
      "Valeurs manquantes\n"
     ]
    },
    {
     "data": {
      "text/plain": [
       "year                0\n",
       "make            10301\n",
       "model           10399\n",
       "trim            10651\n",
       "body            13195\n",
       "transmission    65352\n",
       "vin                 4\n",
       "state               0\n",
       "condition       11820\n",
       "odometer           94\n",
       "color             749\n",
       "interior          749\n",
       "seller              0\n",
       "mmr                38\n",
       "sellingprice       12\n",
       "saledate           12\n",
       "dtype: int64"
      ]
     },
     "execution_count": 285,
     "metadata": {},
     "output_type": "execute_result"
    }
   ],
   "source": [
    "print(\"Valeurs manquantes\")\n",
    "df.isnull().sum()"
   ]
  },
  {
   "cell_type": "code",
   "execution_count": 286,
   "metadata": {},
   "outputs": [
    {
     "data": {
      "text/html": [
       "<div>\n",
       "<style scoped>\n",
       "    .dataframe tbody tr th:only-of-type {\n",
       "        vertical-align: middle;\n",
       "    }\n",
       "\n",
       "    .dataframe tbody tr th {\n",
       "        vertical-align: top;\n",
       "    }\n",
       "\n",
       "    .dataframe thead th {\n",
       "        text-align: right;\n",
       "    }\n",
       "</style>\n",
       "<table border=\"1\" class=\"dataframe\">\n",
       "  <thead>\n",
       "    <tr style=\"text-align: right;\">\n",
       "      <th></th>\n",
       "      <th>year</th>\n",
       "      <th>make</th>\n",
       "      <th>model</th>\n",
       "      <th>trim</th>\n",
       "      <th>body</th>\n",
       "      <th>transmission</th>\n",
       "      <th>vin</th>\n",
       "      <th>state</th>\n",
       "      <th>condition</th>\n",
       "      <th>odometer</th>\n",
       "      <th>color</th>\n",
       "      <th>interior</th>\n",
       "      <th>seller</th>\n",
       "      <th>mmr</th>\n",
       "      <th>sellingprice</th>\n",
       "      <th>saledate</th>\n",
       "    </tr>\n",
       "  </thead>\n",
       "  <tbody>\n",
       "    <tr>\n",
       "      <th>0</th>\n",
       "      <td>2015</td>\n",
       "      <td>Kia</td>\n",
       "      <td>Sorento</td>\n",
       "      <td>LX</td>\n",
       "      <td>SUV</td>\n",
       "      <td>automatic</td>\n",
       "      <td>5xyktca69fg566472</td>\n",
       "      <td>ca</td>\n",
       "      <td>5.0</td>\n",
       "      <td>16639.0</td>\n",
       "      <td>white</td>\n",
       "      <td>black</td>\n",
       "      <td>kia motors america  inc</td>\n",
       "      <td>20500.0</td>\n",
       "      <td>21500.0</td>\n",
       "      <td>Tue Dec 16 2014 12:30:00 GMT-0800 (PST)</td>\n",
       "    </tr>\n",
       "    <tr>\n",
       "      <th>1</th>\n",
       "      <td>2015</td>\n",
       "      <td>Kia</td>\n",
       "      <td>Sorento</td>\n",
       "      <td>LX</td>\n",
       "      <td>SUV</td>\n",
       "      <td>automatic</td>\n",
       "      <td>5xyktca69fg561319</td>\n",
       "      <td>ca</td>\n",
       "      <td>5.0</td>\n",
       "      <td>9393.0</td>\n",
       "      <td>white</td>\n",
       "      <td>beige</td>\n",
       "      <td>kia motors america  inc</td>\n",
       "      <td>20800.0</td>\n",
       "      <td>21500.0</td>\n",
       "      <td>Tue Dec 16 2014 12:30:00 GMT-0800 (PST)</td>\n",
       "    </tr>\n",
       "    <tr>\n",
       "      <th>2</th>\n",
       "      <td>2014</td>\n",
       "      <td>BMW</td>\n",
       "      <td>3 Series</td>\n",
       "      <td>328i SULEV</td>\n",
       "      <td>Sedan</td>\n",
       "      <td>automatic</td>\n",
       "      <td>wba3c1c51ek116351</td>\n",
       "      <td>ca</td>\n",
       "      <td>45.0</td>\n",
       "      <td>1331.0</td>\n",
       "      <td>gray</td>\n",
       "      <td>black</td>\n",
       "      <td>financial services remarketing (lease)</td>\n",
       "      <td>31900.0</td>\n",
       "      <td>30000.0</td>\n",
       "      <td>Thu Jan 15 2015 04:30:00 GMT-0800 (PST)</td>\n",
       "    </tr>\n",
       "    <tr>\n",
       "      <th>3</th>\n",
       "      <td>2015</td>\n",
       "      <td>Volvo</td>\n",
       "      <td>S60</td>\n",
       "      <td>T5</td>\n",
       "      <td>Sedan</td>\n",
       "      <td>automatic</td>\n",
       "      <td>yv1612tb4f1310987</td>\n",
       "      <td>ca</td>\n",
       "      <td>41.0</td>\n",
       "      <td>14282.0</td>\n",
       "      <td>white</td>\n",
       "      <td>black</td>\n",
       "      <td>volvo na rep/world omni</td>\n",
       "      <td>27500.0</td>\n",
       "      <td>27750.0</td>\n",
       "      <td>Thu Jan 29 2015 04:30:00 GMT-0800 (PST)</td>\n",
       "    </tr>\n",
       "    <tr>\n",
       "      <th>4</th>\n",
       "      <td>2014</td>\n",
       "      <td>BMW</td>\n",
       "      <td>6 Series Gran Coupe</td>\n",
       "      <td>650i</td>\n",
       "      <td>Sedan</td>\n",
       "      <td>automatic</td>\n",
       "      <td>wba6b2c57ed129731</td>\n",
       "      <td>ca</td>\n",
       "      <td>43.0</td>\n",
       "      <td>2641.0</td>\n",
       "      <td>gray</td>\n",
       "      <td>black</td>\n",
       "      <td>financial services remarketing (lease)</td>\n",
       "      <td>66000.0</td>\n",
       "      <td>67000.0</td>\n",
       "      <td>Thu Dec 18 2014 12:30:00 GMT-0800 (PST)</td>\n",
       "    </tr>\n",
       "  </tbody>\n",
       "</table>\n",
       "</div>"
      ],
      "text/plain": [
       "   year   make                model        trim   body transmission  \\\n",
       "0  2015    Kia              Sorento          LX    SUV    automatic   \n",
       "1  2015    Kia              Sorento          LX    SUV    automatic   \n",
       "2  2014    BMW             3 Series  328i SULEV  Sedan    automatic   \n",
       "3  2015  Volvo                  S60          T5  Sedan    automatic   \n",
       "4  2014    BMW  6 Series Gran Coupe        650i  Sedan    automatic   \n",
       "\n",
       "                 vin state  condition  odometer  color interior  \\\n",
       "0  5xyktca69fg566472    ca        5.0   16639.0  white    black   \n",
       "1  5xyktca69fg561319    ca        5.0    9393.0  white    beige   \n",
       "2  wba3c1c51ek116351    ca       45.0    1331.0   gray    black   \n",
       "3  yv1612tb4f1310987    ca       41.0   14282.0  white    black   \n",
       "4  wba6b2c57ed129731    ca       43.0    2641.0   gray    black   \n",
       "\n",
       "                                   seller      mmr  sellingprice  \\\n",
       "0                 kia motors america  inc  20500.0       21500.0   \n",
       "1                 kia motors america  inc  20800.0       21500.0   \n",
       "2  financial services remarketing (lease)  31900.0       30000.0   \n",
       "3                 volvo na rep/world omni  27500.0       27750.0   \n",
       "4  financial services remarketing (lease)  66000.0       67000.0   \n",
       "\n",
       "                                  saledate  \n",
       "0  Tue Dec 16 2014 12:30:00 GMT-0800 (PST)  \n",
       "1  Tue Dec 16 2014 12:30:00 GMT-0800 (PST)  \n",
       "2  Thu Jan 15 2015 04:30:00 GMT-0800 (PST)  \n",
       "3  Thu Jan 29 2015 04:30:00 GMT-0800 (PST)  \n",
       "4  Thu Dec 18 2014 12:30:00 GMT-0800 (PST)  "
      ]
     },
     "execution_count": 286,
     "metadata": {},
     "output_type": "execute_result"
    }
   ],
   "source": [
    "#Premier Apercu des données\n",
    "df.head()"
   ]
  },
  {
   "cell_type": "code",
   "execution_count": 287,
   "metadata": {},
   "outputs": [
    {
     "data": {
      "text/plain": [
       "year                34\n",
       "make                96\n",
       "model              973\n",
       "trim              1963\n",
       "body                87\n",
       "transmission         4\n",
       "vin             550297\n",
       "state               64\n",
       "condition           41\n",
       "odometer        172278\n",
       "color               46\n",
       "interior            17\n",
       "seller           14263\n",
       "mmr               1101\n",
       "sellingprice      1887\n",
       "saledate          3766\n",
       "dtype: int64"
      ]
     },
     "execution_count": 287,
     "metadata": {},
     "output_type": "execute_result"
    }
   ],
   "source": [
    "df.nunique()"
   ]
  },
  {
   "cell_type": "code",
   "execution_count": 288,
   "metadata": {},
   "outputs": [
    {
     "data": {
      "text/plain": [
       "array(['Kia', 'BMW', 'Volvo', 'Nissan', 'Chevrolet', 'Audi', 'Ford',\n",
       "       'Hyundai', 'Buick', 'Cadillac', 'Acura', 'Lexus', 'Infiniti',\n",
       "       'Jeep', 'Mercedes-Benz', 'Mitsubishi', 'Mazda', 'MINI',\n",
       "       'Land Rover', 'Lincoln', 'lincoln', 'Jaguar', 'Volkswagen',\n",
       "       'Toyota', 'Subaru', 'Scion', 'Porsche', nan, 'bmw', 'Dodge',\n",
       "       'FIAT', 'Chrysler', 'ford', 'Ferrari', 'Honda', 'GMC',\n",
       "       'mitsubishi', 'Ram', 'smart', 'chevrolet', 'Bentley', 'chrysler',\n",
       "       'pontiac', 'Pontiac', 'Saturn', 'Maserati', 'Mercury', 'HUMMER',\n",
       "       'landrover', 'cadillac', 'land rover', 'mercedes', 'mazda',\n",
       "       'toyota', 'lexus', 'gmc truck', 'honda', 'nissan', 'porsche',\n",
       "       'Saab', 'Suzuki', 'dodge', 'subaru', 'Oldsmobile', 'oldsmobile',\n",
       "       'hyundai', 'jeep', 'Isuzu', 'dodge tk', 'Geo', 'acura',\n",
       "       'volkswagen', 'suzuki', 'kia', 'audi', 'Rolls-Royce', 'gmc',\n",
       "       'maserati', 'mazda tk', 'mercury', 'buick', 'hyundai tk',\n",
       "       'mercedes-b', 'vw', 'Daewoo', 'chev truck', 'ford tk', 'plymouth',\n",
       "       'Plymouth', 'ford truck', 'Tesla', 'airstream', 'dot',\n",
       "       'Aston Martin', 'Fisker', 'Lamborghini', 'Lotus'], dtype=object)"
      ]
     },
     "execution_count": 288,
     "metadata": {},
     "output_type": "execute_result"
    }
   ],
   "source": [
    "df[\"make\"].unique()"
   ]
  },
  {
   "cell_type": "code",
   "execution_count": 289,
   "metadata": {},
   "outputs": [
    {
     "name": "stdout",
     "output_type": "stream",
     "text": [
      "              count\n",
      "make               \n",
      "acura          5926\n",
      "airstream         1\n",
      "aston martin     25\n",
      "audi           5877\n",
      "bentley         116\n",
      "...             ...\n",
      "tesla            23\n",
      "toyota        39966\n",
      "volkswagen    12605\n",
      "volvo          3788\n",
      "vw               24\n",
      "\n",
      "[66 rows x 1 columns]\n"
     ]
    }
   ],
   "source": [
    "# Convert all characters to lowercase for case-insensitive grouping\n",
    "df['make'] = df['make'].str.lower()\n",
    "\n",
    "# Group data by 'make' and count occurrences\n",
    "grouped_data = df.groupby('make').size().to_frame(name='count')\n",
    "\n",
    "# Print the grouped data\n",
    "print(grouped_data)"
   ]
  },
  {
   "cell_type": "code",
   "execution_count": 290,
   "metadata": {},
   "outputs": [
    {
     "data": {
      "text/plain": [
       "0            kia\n",
       "1            kia\n",
       "2            bmw\n",
       "3          volvo\n",
       "4            bmw\n",
       "           ...  \n",
       "558832       kia\n",
       "558833       ram\n",
       "558834       bmw\n",
       "558835    nissan\n",
       "558836      ford\n",
       "Name: make, Length: 558837, dtype: object"
      ]
     },
     "execution_count": 290,
     "metadata": {},
     "output_type": "execute_result"
    }
   ],
   "source": [
    "df[\"make\"]"
   ]
  },
  {
   "cell_type": "code",
   "execution_count": 291,
   "metadata": {},
   "outputs": [
    {
     "data": {
      "text/plain": [
       "array(['kia', 'bmw', 'volvo', 'nissan', 'chevrolet', 'audi', 'ford',\n",
       "       'hyundai', 'buick', 'cadillac', 'acura', 'lexus', 'infiniti',\n",
       "       'jeep', 'mercedes-benz', 'mitsubishi', 'mazda', 'mini',\n",
       "       'land rover', 'lincoln', 'jaguar', 'volkswagen', 'toyota',\n",
       "       'subaru', 'scion', 'porsche', nan, 'dodge', 'fiat', 'chrysler',\n",
       "       'ferrari', 'honda', 'gmc', 'ram', 'smart', 'bentley', 'pontiac',\n",
       "       'saturn', 'maserati', 'mercury', 'hummer', 'landrover', 'mercedes',\n",
       "       'gmc truck', 'saab', 'suzuki', 'oldsmobile', 'isuzu', 'dodge tk',\n",
       "       'geo', 'rolls-royce', 'mazda tk', 'hyundai tk', 'mercedes-b', 'vw',\n",
       "       'daewoo', 'chev truck', 'ford tk', 'plymouth', 'ford truck',\n",
       "       'tesla', 'airstream', 'dot', 'aston martin', 'fisker',\n",
       "       'lamborghini', 'lotus'], dtype=object)"
      ]
     },
     "execution_count": 291,
     "metadata": {},
     "output_type": "execute_result"
    }
   ],
   "source": [
    "df[\"make\"].unique()"
   ]
  },
  {
   "cell_type": "code",
   "execution_count": 292,
   "metadata": {},
   "outputs": [
    {
     "name": "stdout",
     "output_type": "stream",
     "text": [
      "0            kia\n",
      "1            kia\n",
      "2            bmw\n",
      "3          volvo\n",
      "4            bmw\n",
      "           ...  \n",
      "558832       kia\n",
      "558833       ram\n",
      "558834       bmw\n",
      "558835    nissan\n",
      "558836      ford\n",
      "Name: make, Length: 558837, dtype: object\n"
     ]
    }
   ],
   "source": [
    "df[\"make\"] = df[\"make\"][~pd.isna(df[\"make\"])]\n",
    "\n",
    "# Print the resulting array\n",
    "print(df[\"make\"])"
   ]
  },
  {
   "cell_type": "code",
   "execution_count": 293,
   "metadata": {},
   "outputs": [
    {
     "data": {
      "text/plain": [
       "10301"
      ]
     },
     "execution_count": 293,
     "metadata": {},
     "output_type": "execute_result"
    }
   ],
   "source": [
    "df[\"make\"].isna().sum()"
   ]
  },
  {
   "cell_type": "code",
   "execution_count": 294,
   "metadata": {},
   "outputs": [
    {
     "data": {
      "text/plain": [
       "array(['kia', 'bmw', 'volvo', 'nissan', 'chevrolet', 'audi', 'ford',\n",
       "       'hyundai', 'buick', 'cadillac', 'acura', 'lexus', 'infiniti',\n",
       "       'jeep', 'mercedes-benz', 'mitsubishi', 'mazda', 'mini',\n",
       "       'land rover', 'lincoln', 'jaguar', 'volkswagen', 'toyota',\n",
       "       'subaru', 'scion', 'porsche', nan, 'dodge', 'fiat', 'chrysler',\n",
       "       'ferrari', 'honda', 'gmc', 'ram', 'smart', 'bentley', 'pontiac',\n",
       "       'saturn', 'maserati', 'mercury', 'hummer', 'landrover', 'mercedes',\n",
       "       'gmc truck', 'saab', 'suzuki', 'oldsmobile', 'isuzu', 'dodge tk',\n",
       "       'geo', 'rolls-royce', 'mazda tk', 'hyundai tk', 'mercedes-b', 'vw',\n",
       "       'daewoo', 'chev truck', 'ford tk', 'plymouth', 'ford truck',\n",
       "       'tesla', 'airstream', 'dot', 'aston martin', 'fisker',\n",
       "       'lamborghini', 'lotus'], dtype=object)"
      ]
     },
     "execution_count": 294,
     "metadata": {},
     "output_type": "execute_result"
    }
   ],
   "source": [
    "df[\"make\"].unique()"
   ]
  },
  {
   "cell_type": "code",
   "execution_count": 295,
   "metadata": {},
   "outputs": [],
   "source": [
    "df['make']=df['make'].replace(['mercedes-benz','mercedes-b','mercedes benz'],'mercedes')\n",
    "df['make']=df['make'].replace('chev truck','chevrolet')\n",
    "df['make']=df['make'].replace('gmc truck','gmc')\n",
    "df['make']=df['make'].replace('vw','volkswagen')\n",
    "df['make']=df['make'].replace(['ford tk','ford truck'],'ford')"
   ]
  },
  {
   "cell_type": "code",
   "execution_count": 296,
   "metadata": {},
   "outputs": [
    {
     "data": {
      "text/plain": [
       "array(['kia', 'bmw', 'volvo', 'nissan', 'chevrolet', 'audi', 'ford',\n",
       "       'hyundai', 'buick', 'cadillac', 'acura', 'lexus', 'infiniti',\n",
       "       'jeep', 'mercedes', 'mitsubishi', 'mazda', 'mini', 'land rover',\n",
       "       'lincoln', 'jaguar', 'volkswagen', 'toyota', 'subaru', 'scion',\n",
       "       'porsche', nan, 'dodge', 'fiat', 'chrysler', 'ferrari', 'honda',\n",
       "       'gmc', 'ram', 'smart', 'bentley', 'pontiac', 'saturn', 'maserati',\n",
       "       'mercury', 'hummer', 'landrover', 'saab', 'suzuki', 'oldsmobile',\n",
       "       'isuzu', 'dodge tk', 'geo', 'rolls-royce', 'mazda tk',\n",
       "       'hyundai tk', 'daewoo', 'plymouth', 'tesla', 'airstream', 'dot',\n",
       "       'aston martin', 'fisker', 'lamborghini', 'lotus'], dtype=object)"
      ]
     },
     "execution_count": 296,
     "metadata": {},
     "output_type": "execute_result"
    }
   ],
   "source": [
    "df[\"make\"].unique()"
   ]
  },
  {
   "cell_type": "code",
   "execution_count": 297,
   "metadata": {},
   "outputs": [
    {
     "data": {
      "text/plain": [
       "'\\nmin_count = 100\\n\\n# Supprimer les valeurs inférieures à la valeur minimale\\nnb_occurrences = nb_occurrences[nb_occurrences >= min_count]\\n\\n# Afficher le résultat\\nnb_occurrences.loc[nb_occurrences < min_count] = np.nan\\nnb_occurrences.dropna(inplace=True)\\nprint(nb_occurrences)\\n'"
      ]
     },
     "execution_count": 297,
     "metadata": {},
     "output_type": "execute_result"
    }
   ],
   "source": [
    "\"\"\"\n",
    "min_count = 100\n",
    "\n",
    "# Supprimer les valeurs inférieures à la valeur minimale\n",
    "nb_occurrences = nb_occurrences[nb_occurrences >= min_count]\n",
    "\n",
    "# Afficher le résultat\n",
    "nb_occurrences.loc[nb_occurrences < min_count] = np.nan\n",
    "nb_occurrences.dropna(inplace=True)\n",
    "print(nb_occurrences)\n",
    "\"\"\""
   ]
  },
  {
   "cell_type": "code",
   "execution_count": 298,
   "metadata": {},
   "outputs": [
    {
     "name": "stdout",
     "output_type": "stream",
     "text": [
      "Informations générales\n",
      "\n",
      "<class 'pandas.core.frame.DataFrame'>\n",
      "RangeIndex: 558837 entries, 0 to 558836\n",
      "Data columns (total 16 columns):\n",
      " #   Column        Non-Null Count   Dtype  \n",
      "---  ------        --------------   -----  \n",
      " 0   year          558837 non-null  int64  \n",
      " 1   make          548536 non-null  object \n",
      " 2   model         548438 non-null  object \n",
      " 3   trim          548186 non-null  object \n",
      " 4   body          545642 non-null  object \n",
      " 5   transmission  493485 non-null  object \n",
      " 6   vin           558833 non-null  object \n",
      " 7   state         558837 non-null  object \n",
      " 8   condition     547017 non-null  float64\n",
      " 9   odometer      558743 non-null  float64\n",
      " 10  color         558088 non-null  object \n",
      " 11  interior      558088 non-null  object \n",
      " 12  seller        558837 non-null  object \n",
      " 13  mmr           558799 non-null  float64\n",
      " 14  sellingprice  558825 non-null  float64\n",
      " 15  saledate      558825 non-null  object \n",
      "dtypes: float64(4), int64(1), object(11)\n",
      "memory usage: 68.2+ MB\n"
     ]
    }
   ],
   "source": [
    "print(\"Informations générales\")\n",
    "print()\n",
    "df.info()"
   ]
  },
  {
   "cell_type": "code",
   "execution_count": 299,
   "metadata": {},
   "outputs": [
    {
     "data": {
      "image/png": "[encoded data removed]",
      "text/plain": [
       "<Figure size 640x480 with 1 Axes>"
      ]
     },
     "metadata": {},
     "output_type": "display_data"
    }
   ],
   "source": [
    "df[\"year\"].hist()\n",
    "plt.title(\"Voitures vendus en fonction de l'année de fabrication\")\n",
    "plt.show()"
   ]
  },
  {
   "cell_type": "code",
   "execution_count": 300,
   "metadata": {},
   "outputs": [
    {
     "data": {
      "text/plain": [
       "<Axes: xlabel='state'>"
      ]
     },
     "execution_count": 300,
     "metadata": {},
     "output_type": "execute_result"
    },
    {
     "data": {
      "image/png": "[encoded data removed]",
      "text/plain": [
       "<Figure size 640x480 with 1 Axes>"
      ]
     },
     "metadata": {},
     "output_type": "display_data"
    }
   ],
   "source": [
    "#Voitures vendus par état \n",
    "fig=df[\"state\"].value_counts().head(10)\n",
    "fig.plot(kind=\"bar\")"
   ]
  },
  {
   "cell_type": "code",
   "execution_count": 301,
   "metadata": {},
   "outputs": [
    {
     "data": {
      "text/plain": [
       "<Axes: xlabel='sellingprice', ylabel='mmr'>"
      ]
     },
     "execution_count": 301,
     "metadata": {},
     "output_type": "execute_result"
    },
    {
     "data": {
      "image/png": "[encoded data removed]",
      "text/plain": [
       "<Figure size 640x480 with 1 Axes>"
      ]
     },
     "metadata": {},
     "output_type": "display_data"
    }
   ],
   "source": [
    "#Relation entre le prix de vente et la valeur estimée \n",
    "sns.scatterplot(x=df[\"sellingprice\"],y=df[\"mmr\"])"
   ]
  },
  {
   "cell_type": "code",
   "execution_count": 302,
   "metadata": {},
   "outputs": [
    {
     "data": {
      "image/png": "[encoded data removed]",
      "text/plain": [
       "<Figure size 1000x600 with 1 Axes>"
      ]
     },
     "metadata": {},
     "output_type": "display_data"
    }
   ],
   "source": [
    "data = df.groupby(\"make\")[\"year\"].count().nlargest(15)\n",
    "\n",
    "plt.figure(figsize=(10, 6))\n",
    "data.plot(kind='bar', color='skyblue')\n",
    "plt.title(\"Nombres de voitures par marque (Top 15)\")\n",
    "plt.xlabel(\"Make\")\n",
    "plt.ylabel(\"Car Number\")\n",
    "plt.xticks(rotation=45, ha='right')\n",
    "plt.tight_layout()"
   ]
  },
  {
   "cell_type": "code",
   "execution_count": 303,
   "metadata": {},
   "outputs": [
    {
     "data": {
      "text/plain": [
       "'df.boxplot(column=list(df.select_dtypes(include=[np.number])))\\nplt.show()'"
      ]
     },
     "execution_count": 303,
     "metadata": {},
     "output_type": "execute_result"
    }
   ],
   "source": [
    "\"\"\"df.boxplot(column=list(df.select_dtypes(include=[np.number])))\n",
    "plt.show()\"\"\""
   ]
  },
  {
   "cell_type": "code",
   "execution_count": 304,
   "metadata": {},
   "outputs": [
    {
     "name": "stdout",
     "output_type": "stream",
     "text": [
      "Is there any duplicated data?\n"
     ]
    },
    {
     "data": {
      "text/plain": [
       "False"
      ]
     },
     "execution_count": 304,
     "metadata": {},
     "output_type": "execute_result"
    }
   ],
   "source": [
    "print(\"Is there any duplicated data?\")\n",
    "data.duplicated().any()"
   ]
  },
  {
   "cell_type": "code",
   "execution_count": 305,
   "metadata": {},
   "outputs": [],
   "source": [
    "#Suppression des voitures ayant été vendus a - de 100 dollars\n",
    "df.drop(df[df[\"sellingprice\"] < 100].index,inplace=True)"
   ]
  },
  {
   "cell_type": "code",
   "execution_count": 306,
   "metadata": {},
   "outputs": [
    {
     "data": {
      "text/html": [
       "<div>\n",
       "<style scoped>\n",
       "    .dataframe tbody tr th:only-of-type {\n",
       "        vertical-align: middle;\n",
       "    }\n",
       "\n",
       "    .dataframe tbody tr th {\n",
       "        vertical-align: top;\n",
       "    }\n",
       "\n",
       "    .dataframe thead th {\n",
       "        text-align: right;\n",
       "    }\n",
       "</style>\n",
       "<table border=\"1\" class=\"dataframe\">\n",
       "  <thead>\n",
       "    <tr style=\"text-align: right;\">\n",
       "      <th></th>\n",
       "      <th>year</th>\n",
       "      <th>condition</th>\n",
       "      <th>odometer</th>\n",
       "      <th>mmr</th>\n",
       "      <th>sellingprice</th>\n",
       "    </tr>\n",
       "  </thead>\n",
       "  <tbody>\n",
       "    <tr>\n",
       "      <th>count</th>\n",
       "      <td>558833.000000</td>\n",
       "      <td>547013.000000</td>\n",
       "      <td>558740.000000</td>\n",
       "      <td>558795.000000</td>\n",
       "      <td>558821.000000</td>\n",
       "    </tr>\n",
       "    <tr>\n",
       "      <th>mean</th>\n",
       "      <td>2010.038974</td>\n",
       "      <td>30.672470</td>\n",
       "      <td>68319.872692</td>\n",
       "      <td>13769.411009</td>\n",
       "      <td>13611.456232</td>\n",
       "    </tr>\n",
       "    <tr>\n",
       "      <th>std</th>\n",
       "      <td>3.966798</td>\n",
       "      <td>13.402751</td>\n",
       "      <td>53398.007106</td>\n",
       "      <td>9679.973589</td>\n",
       "      <td>9749.468520</td>\n",
       "    </tr>\n",
       "    <tr>\n",
       "      <th>min</th>\n",
       "      <td>1982.000000</td>\n",
       "      <td>1.000000</td>\n",
       "      <td>1.000000</td>\n",
       "      <td>25.000000</td>\n",
       "      <td>100.000000</td>\n",
       "    </tr>\n",
       "    <tr>\n",
       "      <th>25%</th>\n",
       "      <td>2007.000000</td>\n",
       "      <td>23.000000</td>\n",
       "      <td>28371.000000</td>\n",
       "      <td>7100.000000</td>\n",
       "      <td>6900.000000</td>\n",
       "    </tr>\n",
       "    <tr>\n",
       "      <th>50%</th>\n",
       "      <td>2012.000000</td>\n",
       "      <td>35.000000</td>\n",
       "      <td>52254.000000</td>\n",
       "      <td>12250.000000</td>\n",
       "      <td>12100.000000</td>\n",
       "    </tr>\n",
       "    <tr>\n",
       "      <th>75%</th>\n",
       "      <td>2013.000000</td>\n",
       "      <td>42.000000</td>\n",
       "      <td>99109.000000</td>\n",
       "      <td>18300.000000</td>\n",
       "      <td>18200.000000</td>\n",
       "    </tr>\n",
       "    <tr>\n",
       "      <th>max</th>\n",
       "      <td>2015.000000</td>\n",
       "      <td>49.000000</td>\n",
       "      <td>999999.000000</td>\n",
       "      <td>182000.000000</td>\n",
       "      <td>230000.000000</td>\n",
       "    </tr>\n",
       "  </tbody>\n",
       "</table>\n",
       "</div>"
      ],
      "text/plain": [
       "                year      condition       odometer            mmr  \\\n",
       "count  558833.000000  547013.000000  558740.000000  558795.000000   \n",
       "mean     2010.038974      30.672470   68319.872692   13769.411009   \n",
       "std         3.966798      13.402751   53398.007106    9679.973589   \n",
       "min      1982.000000       1.000000       1.000000      25.000000   \n",
       "25%      2007.000000      23.000000   28371.000000    7100.000000   \n",
       "50%      2012.000000      35.000000   52254.000000   12250.000000   \n",
       "75%      2013.000000      42.000000   99109.000000   18300.000000   \n",
       "max      2015.000000      49.000000  999999.000000  182000.000000   \n",
       "\n",
       "        sellingprice  \n",
       "count  558821.000000  \n",
       "mean    13611.456232  \n",
       "std      9749.468520  \n",
       "min       100.000000  \n",
       "25%      6900.000000  \n",
       "50%     12100.000000  \n",
       "75%     18200.000000  \n",
       "max    230000.000000  "
      ]
     },
     "execution_count": 306,
     "metadata": {},
     "output_type": "execute_result"
    }
   ],
   "source": [
    "df.describe()"
   ]
  },
  {
   "cell_type": "code",
   "execution_count": 307,
   "metadata": {},
   "outputs": [
    {
     "data": {
      "text/plain": [
       "<Axes: xlabel='sellingprice', ylabel='mmr'>"
      ]
     },
     "execution_count": 307,
     "metadata": {},
     "output_type": "execute_result"
    },
    {
     "data": {
      "image/png": "[encoded data removed]",
      "text/plain": [
       "<Figure size 640x480 with 1 Axes>"
      ]
     },
     "metadata": {},
     "output_type": "display_data"
    }
   ],
   "source": [
    "sns.scatterplot(x=df[\"sellingprice\"],y=df[\"mmr\"])"
   ]
  },
  {
   "cell_type": "code",
   "execution_count": 308,
   "metadata": {},
   "outputs": [
    {
     "data": {
      "text/plain": [
       "<Axes: xlabel='odometer', ylabel='sellingprice'>"
      ]
     },
     "execution_count": 308,
     "metadata": {},
     "output_type": "execute_result"
    },
    {
     "data": {
      "image/png": "[encoded data removed]",
      "text/plain": [
       "<Figure size 640x480 with 1 Axes>"
      ]
     },
     "metadata": {},
     "output_type": "display_data"
    }
   ],
   "source": [
    "sns.scatterplot(data = df, y = 'sellingprice',x = 'odometer')\n",
    "\n",
    "#On peut voir une relation entre la baisse du prix et l'augmentation du kilométrage de la voiture"
   ]
  },
  {
   "cell_type": "code",
   "execution_count": 309,
   "metadata": {},
   "outputs": [],
   "source": [
    "#Suppression des colonnes inutile\n",
    "df = df.drop(columns=[\"saledate\"])\n",
    "df = df.drop(columns=[\"vin\"])\n",
    "df = df.drop(columns=[\"transmission\"])\n",
    "df = df.drop(columns=[\"trim\"])"
   ]
  },
  {
   "cell_type": "code",
   "execution_count": 310,
   "metadata": {},
   "outputs": [],
   "source": [
    "#Remplace par 'Other' category\n",
    "df['make'].fillna('Other', inplace=True)\n",
    "df['model'].fillna('Other', inplace=True)\n",
    "df['color'].fillna('Other', inplace=True)"
   ]
  },
  {
   "cell_type": "code",
   "execution_count": 311,
   "metadata": {},
   "outputs": [
    {
     "data": {
      "text/plain": [
       "year                0\n",
       "make                0\n",
       "model               0\n",
       "body            13195\n",
       "state               0\n",
       "condition       11820\n",
       "odometer           93\n",
       "color               0\n",
       "interior          749\n",
       "seller              0\n",
       "mmr                38\n",
       "sellingprice       12\n",
       "dtype: int64"
      ]
     },
     "execution_count": 311,
     "metadata": {},
     "output_type": "execute_result"
    }
   ],
   "source": [
    "df.isnull().sum()"
   ]
  },
  {
   "cell_type": "code",
   "execution_count": 312,
   "metadata": {},
   "outputs": [],
   "source": [
    "#Suppression de la ligne entière lorsqu'il y'a une valeur manquante\n",
    "df = df.dropna()"
   ]
  },
  {
   "cell_type": "code",
   "execution_count": 313,
   "metadata": {},
   "outputs": [
    {
     "data": {
      "text/plain": [
       "year            0\n",
       "make            0\n",
       "model           0\n",
       "body            0\n",
       "state           0\n",
       "condition       0\n",
       "odometer        0\n",
       "color           0\n",
       "interior        0\n",
       "seller          0\n",
       "mmr             0\n",
       "sellingprice    0\n",
       "dtype: int64"
      ]
     },
     "execution_count": 313,
     "metadata": {},
     "output_type": "execute_result"
    }
   ],
   "source": [
    "#Data cleaning terminé\n",
    "df.isnull().sum()"
   ]
  },
  {
   "cell_type": "code",
   "execution_count": 314,
   "metadata": {},
   "outputs": [
    {
     "data": {
      "text/plain": [
       "year                26\n",
       "make                53\n",
       "model              773\n",
       "body                86\n",
       "state               38\n",
       "condition           41\n",
       "odometer        166578\n",
       "color               20\n",
       "interior            17\n",
       "seller           12735\n",
       "mmr               1101\n",
       "sellingprice      1851\n",
       "dtype: int64"
      ]
     },
     "execution_count": 314,
     "metadata": {},
     "output_type": "execute_result"
    }
   ],
   "source": [
    "df.nunique()\n"
   ]
  },
  {
   "cell_type": "code",
   "execution_count": 315,
   "metadata": {},
   "outputs": [],
   "source": [
    "#z = np.abs(df[\"nom_colonne\"] - df[\"nom_colonne\"].mean()) / df[\"nom_colonne\"].std()\n",
    "#df = df[z < 3]"
   ]
  },
  {
   "cell_type": "markdown",
   "metadata": {},
   "source": [
    "PASSAGE A DETECTION + SUPPRESSION DES OUTLIERS"
   ]
  },
  {
   "cell_type": "code",
   "execution_count": 316,
   "metadata": {},
   "outputs": [
    {
     "data": {
      "text/plain": [
       "year            0\n",
       "make            0\n",
       "model           0\n",
       "body            0\n",
       "state           0\n",
       "condition       0\n",
       "odometer        0\n",
       "color           0\n",
       "interior        0\n",
       "seller          0\n",
       "mmr             0\n",
       "sellingprice    0\n",
       "dtype: int64"
      ]
     },
     "execution_count": 316,
     "metadata": {},
     "output_type": "execute_result"
    }
   ],
   "source": [
    "#OUTLIERS\n",
    "\n",
    "#Avant suppression des lignes outliers\n",
    "df.isna().sum()"
   ]
  },
  {
   "cell_type": "code",
   "execution_count": 317,
   "metadata": {},
   "outputs": [
    {
     "data": {
      "text/html": [
       "<div>\n",
       "<style scoped>\n",
       "    .dataframe tbody tr th:only-of-type {\n",
       "        vertical-align: middle;\n",
       "    }\n",
       "\n",
       "    .dataframe tbody tr th {\n",
       "        vertical-align: top;\n",
       "    }\n",
       "\n",
       "    .dataframe thead th {\n",
       "        text-align: right;\n",
       "    }\n",
       "</style>\n",
       "<table border=\"1\" class=\"dataframe\">\n",
       "  <thead>\n",
       "    <tr style=\"text-align: right;\">\n",
       "      <th></th>\n",
       "      <th>year</th>\n",
       "      <th>condition</th>\n",
       "      <th>odometer</th>\n",
       "      <th>mmr</th>\n",
       "      <th>sellingprice</th>\n",
       "    </tr>\n",
       "  </thead>\n",
       "  <tbody>\n",
       "    <tr>\n",
       "      <th>count</th>\n",
       "      <td>533738.000000</td>\n",
       "      <td>533738.000000</td>\n",
       "      <td>533738.000000</td>\n",
       "      <td>533738.000000</td>\n",
       "      <td>533738.000000</td>\n",
       "    </tr>\n",
       "    <tr>\n",
       "      <th>mean</th>\n",
       "      <td>2010.231818</td>\n",
       "      <td>30.801507</td>\n",
       "      <td>66243.416052</td>\n",
       "      <td>14022.296661</td>\n",
       "      <td>13868.991841</td>\n",
       "    </tr>\n",
       "    <tr>\n",
       "      <th>std</th>\n",
       "      <td>3.828435</td>\n",
       "      <td>13.368707</td>\n",
       "      <td>52094.639409</td>\n",
       "      <td>9624.079321</td>\n",
       "      <td>9698.131817</td>\n",
       "    </tr>\n",
       "    <tr>\n",
       "      <th>min</th>\n",
       "      <td>1990.000000</td>\n",
       "      <td>1.000000</td>\n",
       "      <td>1.000000</td>\n",
       "      <td>25.000000</td>\n",
       "      <td>100.000000</td>\n",
       "    </tr>\n",
       "    <tr>\n",
       "      <th>25%</th>\n",
       "      <td>2008.000000</td>\n",
       "      <td>24.000000</td>\n",
       "      <td>27735.000000</td>\n",
       "      <td>7575.000000</td>\n",
       "      <td>7300.000000</td>\n",
       "    </tr>\n",
       "    <tr>\n",
       "      <th>50%</th>\n",
       "      <td>2012.000000</td>\n",
       "      <td>35.000000</td>\n",
       "      <td>50135.000000</td>\n",
       "      <td>12500.000000</td>\n",
       "      <td>12400.000000</td>\n",
       "    </tr>\n",
       "    <tr>\n",
       "      <th>75%</th>\n",
       "      <td>2013.000000</td>\n",
       "      <td>42.000000</td>\n",
       "      <td>95806.000000</td>\n",
       "      <td>18500.000000</td>\n",
       "      <td>18400.000000</td>\n",
       "    </tr>\n",
       "    <tr>\n",
       "      <th>max</th>\n",
       "      <td>2015.000000</td>\n",
       "      <td>49.000000</td>\n",
       "      <td>999999.000000</td>\n",
       "      <td>182000.000000</td>\n",
       "      <td>230000.000000</td>\n",
       "    </tr>\n",
       "  </tbody>\n",
       "</table>\n",
       "</div>"
      ],
      "text/plain": [
       "                year      condition       odometer            mmr  \\\n",
       "count  533738.000000  533738.000000  533738.000000  533738.000000   \n",
       "mean     2010.231818      30.801507   66243.416052   14022.296661   \n",
       "std         3.828435      13.368707   52094.639409    9624.079321   \n",
       "min      1990.000000       1.000000       1.000000      25.000000   \n",
       "25%      2008.000000      24.000000   27735.000000    7575.000000   \n",
       "50%      2012.000000      35.000000   50135.000000   12500.000000   \n",
       "75%      2013.000000      42.000000   95806.000000   18500.000000   \n",
       "max      2015.000000      49.000000  999999.000000  182000.000000   \n",
       "\n",
       "        sellingprice  \n",
       "count  533738.000000  \n",
       "mean    13868.991841  \n",
       "std      9698.131817  \n",
       "min       100.000000  \n",
       "25%      7300.000000  \n",
       "50%     12400.000000  \n",
       "75%     18400.000000  \n",
       "max    230000.000000  "
      ]
     },
     "execution_count": 317,
     "metadata": {},
     "output_type": "execute_result"
    }
   ],
   "source": [
    "df.describe()"
   ]
  },
  {
   "cell_type": "code",
   "execution_count": 318,
   "metadata": {},
   "outputs": [
    {
     "data": {
      "image/png": "[encoded data removed]",
      "text/plain": [
       "<Figure size 640x480 with 1 Axes>"
      ]
     },
     "metadata": {},
     "output_type": "display_data"
    }
   ],
   "source": [
    "# SELLING PRICE Visualisation of catplot version\n",
    "\n",
    "df.boxplot(\"sellingprice\")\n",
    "plt.show()"
   ]
  },
  {
   "cell_type": "code",
   "execution_count": 319,
   "metadata": {},
   "outputs": [
    {
     "data": {
      "text/html": [
       "<div>\n",
       "<style scoped>\n",
       "    .dataframe tbody tr th:only-of-type {\n",
       "        vertical-align: middle;\n",
       "    }\n",
       "\n",
       "    .dataframe tbody tr th {\n",
       "        vertical-align: top;\n",
       "    }\n",
       "\n",
       "    .dataframe thead th {\n",
       "        text-align: right;\n",
       "    }\n",
       "</style>\n",
       "<table border=\"1\" class=\"dataframe\">\n",
       "  <thead>\n",
       "    <tr style=\"text-align: right;\">\n",
       "      <th></th>\n",
       "      <th>year</th>\n",
       "      <th>make</th>\n",
       "      <th>model</th>\n",
       "      <th>body</th>\n",
       "      <th>state</th>\n",
       "      <th>condition</th>\n",
       "      <th>odometer</th>\n",
       "      <th>color</th>\n",
       "      <th>interior</th>\n",
       "      <th>seller</th>\n",
       "      <th>mmr</th>\n",
       "      <th>sellingprice</th>\n",
       "    </tr>\n",
       "  </thead>\n",
       "  <tbody>\n",
       "    <tr>\n",
       "      <th>4</th>\n",
       "      <td>2014</td>\n",
       "      <td>bmw</td>\n",
       "      <td>6 Series Gran Coupe</td>\n",
       "      <td>Sedan</td>\n",
       "      <td>ca</td>\n",
       "      <td>43.0</td>\n",
       "      <td>2641.0</td>\n",
       "      <td>gray</td>\n",
       "      <td>black</td>\n",
       "      <td>financial services remarketing (lease)</td>\n",
       "      <td>66000.0</td>\n",
       "      <td>67000.0</td>\n",
       "    </tr>\n",
       "    <tr>\n",
       "      <th>6</th>\n",
       "      <td>2014</td>\n",
       "      <td>bmw</td>\n",
       "      <td>M5</td>\n",
       "      <td>Sedan</td>\n",
       "      <td>ca</td>\n",
       "      <td>34.0</td>\n",
       "      <td>14943.0</td>\n",
       "      <td>black</td>\n",
       "      <td>black</td>\n",
       "      <td>the hertz corporation</td>\n",
       "      <td>69000.0</td>\n",
       "      <td>65000.0</td>\n",
       "    </tr>\n",
       "    <tr>\n",
       "      <th>10</th>\n",
       "      <td>2014</td>\n",
       "      <td>audi</td>\n",
       "      <td>A6</td>\n",
       "      <td>Sedan</td>\n",
       "      <td>ca</td>\n",
       "      <td>48.0</td>\n",
       "      <td>14414.0</td>\n",
       "      <td>black</td>\n",
       "      <td>black</td>\n",
       "      <td>desert auto trade</td>\n",
       "      <td>47300.0</td>\n",
       "      <td>49750.0</td>\n",
       "    </tr>\n",
       "    <tr>\n",
       "      <th>17</th>\n",
       "      <td>2014</td>\n",
       "      <td>audi</td>\n",
       "      <td>Q5</td>\n",
       "      <td>SUV</td>\n",
       "      <td>ca</td>\n",
       "      <td>49.0</td>\n",
       "      <td>7983.0</td>\n",
       "      <td>white</td>\n",
       "      <td>black</td>\n",
       "      <td>audi north scottsdale</td>\n",
       "      <td>37100.0</td>\n",
       "      <td>40000.0</td>\n",
       "    </tr>\n",
       "    <tr>\n",
       "      <th>19</th>\n",
       "      <td>2014</td>\n",
       "      <td>bmw</td>\n",
       "      <td>6 Series</td>\n",
       "      <td>Convertible</td>\n",
       "      <td>ca</td>\n",
       "      <td>34.0</td>\n",
       "      <td>8819.0</td>\n",
       "      <td>black</td>\n",
       "      <td>black</td>\n",
       "      <td>the hertz corporation</td>\n",
       "      <td>68000.0</td>\n",
       "      <td>67200.0</td>\n",
       "    </tr>\n",
       "    <tr>\n",
       "      <th>...</th>\n",
       "      <td>...</td>\n",
       "      <td>...</td>\n",
       "      <td>...</td>\n",
       "      <td>...</td>\n",
       "      <td>...</td>\n",
       "      <td>...</td>\n",
       "      <td>...</td>\n",
       "      <td>...</td>\n",
       "      <td>...</td>\n",
       "      <td>...</td>\n",
       "      <td>...</td>\n",
       "      <td>...</td>\n",
       "    </tr>\n",
       "    <tr>\n",
       "      <th>558775</th>\n",
       "      <td>2014</td>\n",
       "      <td>mercedes</td>\n",
       "      <td>E-Class</td>\n",
       "      <td>sedan</td>\n",
       "      <td>ga</td>\n",
       "      <td>49.0</td>\n",
       "      <td>11448.0</td>\n",
       "      <td>blue</td>\n",
       "      <td>beige</td>\n",
       "      <td>mercedes-benz finc wholesale advantage</td>\n",
       "      <td>40600.0</td>\n",
       "      <td>40500.0</td>\n",
       "    </tr>\n",
       "    <tr>\n",
       "      <th>558777</th>\n",
       "      <td>2012</td>\n",
       "      <td>maserati</td>\n",
       "      <td>Quattroporte</td>\n",
       "      <td>sedan</td>\n",
       "      <td>ga</td>\n",
       "      <td>39.0</td>\n",
       "      <td>21923.0</td>\n",
       "      <td>blue</td>\n",
       "      <td>—</td>\n",
       "      <td>maserati north america inc</td>\n",
       "      <td>53300.0</td>\n",
       "      <td>40250.0</td>\n",
       "    </tr>\n",
       "    <tr>\n",
       "      <th>558807</th>\n",
       "      <td>2014</td>\n",
       "      <td>mercedes</td>\n",
       "      <td>E-Class</td>\n",
       "      <td>Sedan</td>\n",
       "      <td>ca</td>\n",
       "      <td>45.0</td>\n",
       "      <td>17518.0</td>\n",
       "      <td>black</td>\n",
       "      <td>black</td>\n",
       "      <td>the hertz corporation</td>\n",
       "      <td>64000.0</td>\n",
       "      <td>69500.0</td>\n",
       "    </tr>\n",
       "    <tr>\n",
       "      <th>558816</th>\n",
       "      <td>2013</td>\n",
       "      <td>mercedes</td>\n",
       "      <td>G-Class</td>\n",
       "      <td>suv</td>\n",
       "      <td>fl</td>\n",
       "      <td>5.0</td>\n",
       "      <td>26799.0</td>\n",
       "      <td>black</td>\n",
       "      <td>black</td>\n",
       "      <td>fields bmw</td>\n",
       "      <td>104000.0</td>\n",
       "      <td>105000.0</td>\n",
       "    </tr>\n",
       "    <tr>\n",
       "      <th>558824</th>\n",
       "      <td>2013</td>\n",
       "      <td>audi</td>\n",
       "      <td>S5</td>\n",
       "      <td>convertible</td>\n",
       "      <td>fl</td>\n",
       "      <td>5.0</td>\n",
       "      <td>20158.0</td>\n",
       "      <td>silver</td>\n",
       "      <td>black</td>\n",
       "      <td>prestige audi</td>\n",
       "      <td>43900.0</td>\n",
       "      <td>42000.0</td>\n",
       "    </tr>\n",
       "  </tbody>\n",
       "</table>\n",
       "<p>15808 rows × 12 columns</p>\n",
       "</div>"
      ],
      "text/plain": [
       "        year      make                model         body state  condition  \\\n",
       "4       2014       bmw  6 Series Gran Coupe        Sedan    ca       43.0   \n",
       "6       2014       bmw                   M5        Sedan    ca       34.0   \n",
       "10      2014      audi                   A6        Sedan    ca       48.0   \n",
       "17      2014      audi                   Q5          SUV    ca       49.0   \n",
       "19      2014       bmw             6 Series  Convertible    ca       34.0   \n",
       "...      ...       ...                  ...          ...   ...        ...   \n",
       "558775  2014  mercedes              E-Class        sedan    ga       49.0   \n",
       "558777  2012  maserati         Quattroporte        sedan    ga       39.0   \n",
       "558807  2014  mercedes              E-Class        Sedan    ca       45.0   \n",
       "558816  2013  mercedes              G-Class          suv    fl        5.0   \n",
       "558824  2013      audi                   S5  convertible    fl        5.0   \n",
       "\n",
       "        odometer   color interior                                  seller  \\\n",
       "4         2641.0    gray    black  financial services remarketing (lease)   \n",
       "6        14943.0   black    black                   the hertz corporation   \n",
       "10       14414.0   black    black                       desert auto trade   \n",
       "17        7983.0   white    black                   audi north scottsdale   \n",
       "19        8819.0   black    black                   the hertz corporation   \n",
       "...          ...     ...      ...                                     ...   \n",
       "558775   11448.0    blue    beige  mercedes-benz finc wholesale advantage   \n",
       "558777   21923.0    blue        —              maserati north america inc   \n",
       "558807   17518.0   black    black                   the hertz corporation   \n",
       "558816   26799.0   black    black                              fields bmw   \n",
       "558824   20158.0  silver    black                           prestige audi   \n",
       "\n",
       "             mmr  sellingprice  \n",
       "4        66000.0       67000.0  \n",
       "6        69000.0       65000.0  \n",
       "10       47300.0       49750.0  \n",
       "17       37100.0       40000.0  \n",
       "19       68000.0       67200.0  \n",
       "...          ...           ...  \n",
       "558775   40600.0       40500.0  \n",
       "558777   53300.0       40250.0  \n",
       "558807   64000.0       69500.0  \n",
       "558816  104000.0      105000.0  \n",
       "558824   43900.0       42000.0  \n",
       "\n",
       "[15808 rows x 12 columns]"
      ]
     },
     "metadata": {},
     "output_type": "display_data"
    }
   ],
   "source": [
    "# calculate IQR for selling price\n",
    "Q1 = df['sellingprice'].quantile(0.25)\n",
    "Q3 = df['sellingprice'].quantile(0.75)\n",
    "IQR = Q3 - Q1\n",
    "\n",
    "# identify outliers\n",
    "threshold = 1.5\n",
    "outliers_price = df[(df['sellingprice'] < Q1 - threshold * IQR) | (df['sellingprice'] > Q3 + threshold * IQR)]\n",
    "\n",
    "display(outliers_price)\n",
    "\n",
    "# Supprimer les valeurs aberrantes price\n",
    "df = df.drop(outliers_price.index)"
   ]
  },
  {
   "cell_type": "code",
   "execution_count": 320,
   "metadata": {},
   "outputs": [
    {
     "data": {
      "image/png": "[encoded data removed]",
      "text/plain": [
       "<Figure size 640x480 with 1 Axes>"
      ]
     },
     "metadata": {},
     "output_type": "display_data"
    }
   ],
   "source": [
    "# year Visualisation of catplot version\n",
    "\n",
    "df.boxplot(\"year\")\n",
    "plt.show()"
   ]
  },
  {
   "cell_type": "code",
   "execution_count": 321,
   "metadata": {},
   "outputs": [
    {
     "data": {
      "text/html": [
       "<div>\n",
       "<style scoped>\n",
       "    .dataframe tbody tr th:only-of-type {\n",
       "        vertical-align: middle;\n",
       "    }\n",
       "\n",
       "    .dataframe tbody tr th {\n",
       "        vertical-align: top;\n",
       "    }\n",
       "\n",
       "    .dataframe thead th {\n",
       "        text-align: right;\n",
       "    }\n",
       "</style>\n",
       "<table border=\"1\" class=\"dataframe\">\n",
       "  <thead>\n",
       "    <tr style=\"text-align: right;\">\n",
       "      <th></th>\n",
       "      <th>year</th>\n",
       "      <th>make</th>\n",
       "      <th>model</th>\n",
       "      <th>body</th>\n",
       "      <th>state</th>\n",
       "      <th>condition</th>\n",
       "      <th>odometer</th>\n",
       "      <th>color</th>\n",
       "      <th>interior</th>\n",
       "      <th>seller</th>\n",
       "      <th>mmr</th>\n",
       "      <th>sellingprice</th>\n",
       "    </tr>\n",
       "  </thead>\n",
       "  <tbody>\n",
       "    <tr>\n",
       "      <th>5008</th>\n",
       "      <td>2000</td>\n",
       "      <td>bmw</td>\n",
       "      <td>3 Series</td>\n",
       "      <td>Convertible</td>\n",
       "      <td>ca</td>\n",
       "      <td>2.0</td>\n",
       "      <td>116389.0</td>\n",
       "      <td>blue</td>\n",
       "      <td>gray</td>\n",
       "      <td>check into cash inc.</td>\n",
       "      <td>2850.0</td>\n",
       "      <td>2200.0</td>\n",
       "    </tr>\n",
       "    <tr>\n",
       "      <th>5010</th>\n",
       "      <td>2000</td>\n",
       "      <td>mazda</td>\n",
       "      <td>Millenia</td>\n",
       "      <td>Sedan</td>\n",
       "      <td>ca</td>\n",
       "      <td>27.0</td>\n",
       "      <td>155695.0</td>\n",
       "      <td>silver</td>\n",
       "      <td>black</td>\n",
       "      <td>nextgear capital</td>\n",
       "      <td>900.0</td>\n",
       "      <td>400.0</td>\n",
       "    </tr>\n",
       "    <tr>\n",
       "      <th>5011</th>\n",
       "      <td>1999</td>\n",
       "      <td>honda</td>\n",
       "      <td>Civic</td>\n",
       "      <td>Sedan</td>\n",
       "      <td>ca</td>\n",
       "      <td>1.0</td>\n",
       "      <td>164960.0</td>\n",
       "      <td>silver</td>\n",
       "      <td>gray</td>\n",
       "      <td>gosch ford</td>\n",
       "      <td>1100.0</td>\n",
       "      <td>500.0</td>\n",
       "    </tr>\n",
       "    <tr>\n",
       "      <th>5014</th>\n",
       "      <td>1999</td>\n",
       "      <td>lexus</td>\n",
       "      <td>RX 300</td>\n",
       "      <td>SUV</td>\n",
       "      <td>ca</td>\n",
       "      <td>23.0</td>\n",
       "      <td>117026.0</td>\n",
       "      <td>black</td>\n",
       "      <td>beige</td>\n",
       "      <td>honda of pasadena</td>\n",
       "      <td>3600.0</td>\n",
       "      <td>3700.0</td>\n",
       "    </tr>\n",
       "    <tr>\n",
       "      <th>5017</th>\n",
       "      <td>2000</td>\n",
       "      <td>toyota</td>\n",
       "      <td>4Runner</td>\n",
       "      <td>SUV</td>\n",
       "      <td>ca</td>\n",
       "      <td>19.0</td>\n",
       "      <td>242711.0</td>\n",
       "      <td>white</td>\n",
       "      <td>brown</td>\n",
       "      <td>premium auto wholesale</td>\n",
       "      <td>2425.0</td>\n",
       "      <td>2400.0</td>\n",
       "    </tr>\n",
       "    <tr>\n",
       "      <th>...</th>\n",
       "      <td>...</td>\n",
       "      <td>...</td>\n",
       "      <td>...</td>\n",
       "      <td>...</td>\n",
       "      <td>...</td>\n",
       "      <td>...</td>\n",
       "      <td>...</td>\n",
       "      <td>...</td>\n",
       "      <td>...</td>\n",
       "      <td>...</td>\n",
       "      <td>...</td>\n",
       "      <td>...</td>\n",
       "    </tr>\n",
       "    <tr>\n",
       "      <th>558549</th>\n",
       "      <td>1999</td>\n",
       "      <td>mercedes</td>\n",
       "      <td>SLK-Class</td>\n",
       "      <td>convertible</td>\n",
       "      <td>fl</td>\n",
       "      <td>28.0</td>\n",
       "      <td>88371.0</td>\n",
       "      <td>white</td>\n",
       "      <td>black</td>\n",
       "      <td>plus auto sales corp</td>\n",
       "      <td>4025.0</td>\n",
       "      <td>3000.0</td>\n",
       "    </tr>\n",
       "    <tr>\n",
       "      <th>558648</th>\n",
       "      <td>2000</td>\n",
       "      <td>volvo</td>\n",
       "      <td>V70</td>\n",
       "      <td>wagon</td>\n",
       "      <td>pa</td>\n",
       "      <td>33.0</td>\n",
       "      <td>125214.0</td>\n",
       "      <td>silver</td>\n",
       "      <td>beige</td>\n",
       "      <td>nico buys cars</td>\n",
       "      <td>1125.0</td>\n",
       "      <td>2500.0</td>\n",
       "    </tr>\n",
       "    <tr>\n",
       "      <th>558649</th>\n",
       "      <td>1999</td>\n",
       "      <td>lexus</td>\n",
       "      <td>RX 300</td>\n",
       "      <td>suv</td>\n",
       "      <td>fl</td>\n",
       "      <td>19.0</td>\n",
       "      <td>199179.0</td>\n",
       "      <td>red</td>\n",
       "      <td>tan</td>\n",
       "      <td>jm lexus</td>\n",
       "      <td>3325.0</td>\n",
       "      <td>2600.0</td>\n",
       "    </tr>\n",
       "    <tr>\n",
       "      <th>558650</th>\n",
       "      <td>1997</td>\n",
       "      <td>mercedes</td>\n",
       "      <td>S-Class</td>\n",
       "      <td>sedan</td>\n",
       "      <td>pa</td>\n",
       "      <td>28.0</td>\n",
       "      <td>94947.0</td>\n",
       "      <td>—</td>\n",
       "      <td>tan</td>\n",
       "      <td>r hollenshead auto sales inc</td>\n",
       "      <td>2550.0</td>\n",
       "      <td>3200.0</td>\n",
       "    </tr>\n",
       "    <tr>\n",
       "      <th>558717</th>\n",
       "      <td>2000</td>\n",
       "      <td>ford</td>\n",
       "      <td>Explorer</td>\n",
       "      <td>suv</td>\n",
       "      <td>tx</td>\n",
       "      <td>27.0</td>\n",
       "      <td>220815.0</td>\n",
       "      <td>blue</td>\n",
       "      <td>gray</td>\n",
       "      <td>classic chevrolet inc</td>\n",
       "      <td>475.0</td>\n",
       "      <td>600.0</td>\n",
       "    </tr>\n",
       "  </tbody>\n",
       "</table>\n",
       "<p>11327 rows × 12 columns</p>\n",
       "</div>"
      ],
      "text/plain": [
       "        year      make      model         body state  condition  odometer  \\\n",
       "5008    2000       bmw   3 Series  Convertible    ca        2.0  116389.0   \n",
       "5010    2000     mazda   Millenia        Sedan    ca       27.0  155695.0   \n",
       "5011    1999     honda      Civic        Sedan    ca        1.0  164960.0   \n",
       "5014    1999     lexus     RX 300          SUV    ca       23.0  117026.0   \n",
       "5017    2000    toyota    4Runner          SUV    ca       19.0  242711.0   \n",
       "...      ...       ...        ...          ...   ...        ...       ...   \n",
       "558549  1999  mercedes  SLK-Class  convertible    fl       28.0   88371.0   \n",
       "558648  2000     volvo        V70        wagon    pa       33.0  125214.0   \n",
       "558649  1999     lexus     RX 300          suv    fl       19.0  199179.0   \n",
       "558650  1997  mercedes    S-Class        sedan    pa       28.0   94947.0   \n",
       "558717  2000      ford   Explorer          suv    tx       27.0  220815.0   \n",
       "\n",
       "         color interior                        seller     mmr  sellingprice  \n",
       "5008      blue     gray          check into cash inc.  2850.0        2200.0  \n",
       "5010    silver    black              nextgear capital   900.0         400.0  \n",
       "5011    silver     gray                    gosch ford  1100.0         500.0  \n",
       "5014     black    beige             honda of pasadena  3600.0        3700.0  \n",
       "5017     white    brown        premium auto wholesale  2425.0        2400.0  \n",
       "...        ...      ...                           ...     ...           ...  \n",
       "558549   white    black          plus auto sales corp  4025.0        3000.0  \n",
       "558648  silver    beige                nico buys cars  1125.0        2500.0  \n",
       "558649     red      tan                      jm lexus  3325.0        2600.0  \n",
       "558650       —      tan  r hollenshead auto sales inc  2550.0        3200.0  \n",
       "558717    blue     gray         classic chevrolet inc   475.0         600.0  \n",
       "\n",
       "[11327 rows x 12 columns]"
      ]
     },
     "metadata": {},
     "output_type": "display_data"
    }
   ],
   "source": [
    "# calculate IQR for l'année#\n",
    "Q1 = df['year'].quantile(0.25)\n",
    "Q3 = df['year'].quantile(0.75)\n",
    "IQR = Q3 - Q1\n",
    "\n",
    "# identify outliers\n",
    "threshold = 1.5\n",
    "outliers_year = df[(df['year'] < Q1 - threshold * IQR) | (df['year'] > Q3 + threshold * IQR)]\n",
    "\n",
    "display(outliers_year)\n",
    "\n",
    "# Supprimer les valeurs aberrantes year\n",
    "df = df.drop(outliers_year.index)\n"
   ]
  },
  {
   "cell_type": "code",
   "execution_count": 322,
   "metadata": {},
   "outputs": [
    {
     "data": {
      "image/png": "[encoded data removed]",
      "text/plain": [
       "<Figure size 640x480 with 1 Axes>"
      ]
     },
     "metadata": {},
     "output_type": "display_data"
    }
   ],
   "source": [
    "# odometer Visualisation of catplot version\n",
    "\n",
    "df.boxplot(\"odometer\")\n",
    "plt.show()"
   ]
  },
  {
   "cell_type": "code",
   "execution_count": 323,
   "metadata": {},
   "outputs": [
    {
     "data": {
      "text/html": [
       "<div>\n",
       "<style scoped>\n",
       "    .dataframe tbody tr th:only-of-type {\n",
       "        vertical-align: middle;\n",
       "    }\n",
       "\n",
       "    .dataframe tbody tr th {\n",
       "        vertical-align: top;\n",
       "    }\n",
       "\n",
       "    .dataframe thead th {\n",
       "        text-align: right;\n",
       "    }\n",
       "</style>\n",
       "<table border=\"1\" class=\"dataframe\">\n",
       "  <thead>\n",
       "    <tr style=\"text-align: right;\">\n",
       "      <th></th>\n",
       "      <th>year</th>\n",
       "      <th>make</th>\n",
       "      <th>model</th>\n",
       "      <th>body</th>\n",
       "      <th>state</th>\n",
       "      <th>condition</th>\n",
       "      <th>odometer</th>\n",
       "      <th>color</th>\n",
       "      <th>interior</th>\n",
       "      <th>seller</th>\n",
       "      <th>mmr</th>\n",
       "      <th>sellingprice</th>\n",
       "    </tr>\n",
       "  </thead>\n",
       "  <tbody>\n",
       "    <tr>\n",
       "      <th>275</th>\n",
       "      <td>2013</td>\n",
       "      <td>hyundai</td>\n",
       "      <td>Elantra Coupe</td>\n",
       "      <td>Elantra Coupe</td>\n",
       "      <td>ca</td>\n",
       "      <td>1.0</td>\n",
       "      <td>999999.0</td>\n",
       "      <td>blue</td>\n",
       "      <td>gray</td>\n",
       "      <td>hyundai motor finance</td>\n",
       "      <td>8025.0</td>\n",
       "      <td>2500.0</td>\n",
       "    </tr>\n",
       "    <tr>\n",
       "      <th>1666</th>\n",
       "      <td>2012</td>\n",
       "      <td>nissan</td>\n",
       "      <td>Frontier</td>\n",
       "      <td>King Cab</td>\n",
       "      <td>ca</td>\n",
       "      <td>2.0</td>\n",
       "      <td>227606.0</td>\n",
       "      <td>white</td>\n",
       "      <td>gray</td>\n",
       "      <td>o'reilly auto parts</td>\n",
       "      <td>5000.0</td>\n",
       "      <td>5100.0</td>\n",
       "    </tr>\n",
       "    <tr>\n",
       "      <th>2470</th>\n",
       "      <td>2011</td>\n",
       "      <td>toyota</td>\n",
       "      <td>Corolla</td>\n",
       "      <td>Sedan</td>\n",
       "      <td>ca</td>\n",
       "      <td>1.0</td>\n",
       "      <td>291087.0</td>\n",
       "      <td>white</td>\n",
       "      <td>gray</td>\n",
       "      <td>ge fleet services for itself/servicer</td>\n",
       "      <td>7650.0</td>\n",
       "      <td>3600.0</td>\n",
       "    </tr>\n",
       "    <tr>\n",
       "      <th>2822</th>\n",
       "      <td>2009</td>\n",
       "      <td>ford</td>\n",
       "      <td>Ranger</td>\n",
       "      <td>Regular Cab</td>\n",
       "      <td>ca</td>\n",
       "      <td>2.0</td>\n",
       "      <td>312235.0</td>\n",
       "      <td>white</td>\n",
       "      <td>gray</td>\n",
       "      <td>o'reilly auto parts</td>\n",
       "      <td>3050.0</td>\n",
       "      <td>2000.0</td>\n",
       "    </tr>\n",
       "    <tr>\n",
       "      <th>3060</th>\n",
       "      <td>2008</td>\n",
       "      <td>chevrolet</td>\n",
       "      <td>Impala</td>\n",
       "      <td>Sedan</td>\n",
       "      <td>ca</td>\n",
       "      <td>26.0</td>\n",
       "      <td>198177.0</td>\n",
       "      <td>white</td>\n",
       "      <td>silver</td>\n",
       "      <td>tustin community bank</td>\n",
       "      <td>1950.0</td>\n",
       "      <td>2000.0</td>\n",
       "    </tr>\n",
       "    <tr>\n",
       "      <th>...</th>\n",
       "      <td>...</td>\n",
       "      <td>...</td>\n",
       "      <td>...</td>\n",
       "      <td>...</td>\n",
       "      <td>...</td>\n",
       "      <td>...</td>\n",
       "      <td>...</td>\n",
       "      <td>...</td>\n",
       "      <td>...</td>\n",
       "      <td>...</td>\n",
       "      <td>...</td>\n",
       "      <td>...</td>\n",
       "    </tr>\n",
       "    <tr>\n",
       "      <th>558468</th>\n",
       "      <td>2002</td>\n",
       "      <td>chevrolet</td>\n",
       "      <td>Tahoe</td>\n",
       "      <td>suv</td>\n",
       "      <td>fl</td>\n",
       "      <td>27.0</td>\n",
       "      <td>209889.0</td>\n",
       "      <td>black</td>\n",
       "      <td>gray</td>\n",
       "      <td>zimmerman auto brokers inc</td>\n",
       "      <td>1875.0</td>\n",
       "      <td>2400.0</td>\n",
       "    </tr>\n",
       "    <tr>\n",
       "      <th>558470</th>\n",
       "      <td>2002</td>\n",
       "      <td>honda</td>\n",
       "      <td>Odyssey</td>\n",
       "      <td>minivan</td>\n",
       "      <td>ma</td>\n",
       "      <td>2.0</td>\n",
       "      <td>215038.0</td>\n",
       "      <td>red</td>\n",
       "      <td>gray</td>\n",
       "      <td>boch new to you superstore</td>\n",
       "      <td>975.0</td>\n",
       "      <td>300.0</td>\n",
       "    </tr>\n",
       "    <tr>\n",
       "      <th>558478</th>\n",
       "      <td>2001</td>\n",
       "      <td>toyota</td>\n",
       "      <td>Tundra</td>\n",
       "      <td>access cab</td>\n",
       "      <td>ma</td>\n",
       "      <td>19.0</td>\n",
       "      <td>196470.0</td>\n",
       "      <td>black</td>\n",
       "      <td>tan</td>\n",
       "      <td>boch toyota/scion south</td>\n",
       "      <td>3225.0</td>\n",
       "      <td>3600.0</td>\n",
       "    </tr>\n",
       "    <tr>\n",
       "      <th>558768</th>\n",
       "      <td>2011</td>\n",
       "      <td>ford</td>\n",
       "      <td>Fusion Hybrid</td>\n",
       "      <td>sedan</td>\n",
       "      <td>fl</td>\n",
       "      <td>26.0</td>\n",
       "      <td>204835.0</td>\n",
       "      <td>blue</td>\n",
       "      <td>beige</td>\n",
       "      <td>firkins chrysler jeep dodge</td>\n",
       "      <td>7750.0</td>\n",
       "      <td>7400.0</td>\n",
       "    </tr>\n",
       "    <tr>\n",
       "      <th>558791</th>\n",
       "      <td>2012</td>\n",
       "      <td>ford</td>\n",
       "      <td>Transit Connect</td>\n",
       "      <td>Minivan</td>\n",
       "      <td>mn</td>\n",
       "      <td>27.0</td>\n",
       "      <td>262065.0</td>\n",
       "      <td>silver</td>\n",
       "      <td>gray</td>\n",
       "      <td>saxon fleet services</td>\n",
       "      <td>10100.0</td>\n",
       "      <td>3000.0</td>\n",
       "    </tr>\n",
       "  </tbody>\n",
       "</table>\n",
       "<p>9451 rows × 12 columns</p>\n",
       "</div>"
      ],
      "text/plain": [
       "        year       make            model           body state  condition  \\\n",
       "275     2013    hyundai    Elantra Coupe  Elantra Coupe    ca        1.0   \n",
       "1666    2012     nissan         Frontier       King Cab    ca        2.0   \n",
       "2470    2011     toyota          Corolla          Sedan    ca        1.0   \n",
       "2822    2009       ford           Ranger    Regular Cab    ca        2.0   \n",
       "3060    2008  chevrolet           Impala          Sedan    ca       26.0   \n",
       "...      ...        ...              ...            ...   ...        ...   \n",
       "558468  2002  chevrolet            Tahoe            suv    fl       27.0   \n",
       "558470  2002      honda          Odyssey        minivan    ma        2.0   \n",
       "558478  2001     toyota           Tundra     access cab    ma       19.0   \n",
       "558768  2011       ford    Fusion Hybrid          sedan    fl       26.0   \n",
       "558791  2012       ford  Transit Connect        Minivan    mn       27.0   \n",
       "\n",
       "        odometer   color interior                                 seller  \\\n",
       "275     999999.0    blue     gray                  hyundai motor finance   \n",
       "1666    227606.0   white     gray                    o'reilly auto parts   \n",
       "2470    291087.0   white     gray  ge fleet services for itself/servicer   \n",
       "2822    312235.0   white     gray                    o'reilly auto parts   \n",
       "3060    198177.0   white   silver                  tustin community bank   \n",
       "...          ...     ...      ...                                    ...   \n",
       "558468  209889.0   black     gray             zimmerman auto brokers inc   \n",
       "558470  215038.0     red     gray             boch new to you superstore   \n",
       "558478  196470.0   black      tan                boch toyota/scion south   \n",
       "558768  204835.0    blue    beige            firkins chrysler jeep dodge   \n",
       "558791  262065.0  silver     gray                   saxon fleet services   \n",
       "\n",
       "            mmr  sellingprice  \n",
       "275      8025.0        2500.0  \n",
       "1666     5000.0        5100.0  \n",
       "2470     7650.0        3600.0  \n",
       "2822     3050.0        2000.0  \n",
       "3060     1950.0        2000.0  \n",
       "...         ...           ...  \n",
       "558468   1875.0        2400.0  \n",
       "558470    975.0         300.0  \n",
       "558478   3225.0        3600.0  \n",
       "558768   7750.0        7400.0  \n",
       "558791  10100.0        3000.0  \n",
       "\n",
       "[9451 rows x 12 columns]"
      ]
     },
     "metadata": {},
     "output_type": "display_data"
    }
   ],
   "source": [
    "# calculate IQR for odometer\n",
    "Q1 = df['odometer'].quantile(0.25)\n",
    "Q3 = df['odometer'].quantile(0.75)\n",
    "IQR = Q3 - Q1\n",
    "\n",
    "# identify outliers\n",
    "threshold = 1.5\n",
    "outliers_odometer = df[(df['odometer'] < Q1 - threshold * IQR) | (df['odometer'] > Q3 + threshold * IQR)]\n",
    "\n",
    "display(outliers_odometer)\n",
    "\n",
    "#supprimer outliers odometer\n",
    "df = df.drop(outliers_odometer.index)"
   ]
  },
  {
   "cell_type": "code",
   "execution_count": 324,
   "metadata": {},
   "outputs": [
    {
     "data": {
      "image/png": "[encoded data removed]",
      "text/plain": [
       "<Figure size 640x480 with 1 Axes>"
      ]
     },
     "metadata": {},
     "output_type": "display_data"
    }
   ],
   "source": [
    "# mmr Visualisation of catplot version\n",
    "\n",
    "df.boxplot(\"mmr\")\n",
    "plt.show()"
   ]
  },
  {
   "cell_type": "code",
   "execution_count": 325,
   "metadata": {},
   "outputs": [
    {
     "data": {
      "text/html": [
       "<div>\n",
       "<style scoped>\n",
       "    .dataframe tbody tr th:only-of-type {\n",
       "        vertical-align: middle;\n",
       "    }\n",
       "\n",
       "    .dataframe tbody tr th {\n",
       "        vertical-align: top;\n",
       "    }\n",
       "\n",
       "    .dataframe thead th {\n",
       "        text-align: right;\n",
       "    }\n",
       "</style>\n",
       "<table border=\"1\" class=\"dataframe\">\n",
       "  <thead>\n",
       "    <tr style=\"text-align: right;\">\n",
       "      <th></th>\n",
       "      <th>year</th>\n",
       "      <th>make</th>\n",
       "      <th>model</th>\n",
       "      <th>body</th>\n",
       "      <th>state</th>\n",
       "      <th>condition</th>\n",
       "      <th>odometer</th>\n",
       "      <th>color</th>\n",
       "      <th>interior</th>\n",
       "      <th>seller</th>\n",
       "      <th>mmr</th>\n",
       "      <th>sellingprice</th>\n",
       "    </tr>\n",
       "  </thead>\n",
       "  <tbody>\n",
       "    <tr>\n",
       "      <th>21</th>\n",
       "      <td>2014</td>\n",
       "      <td>bmw</td>\n",
       "      <td>5 Series</td>\n",
       "      <td>Sedan</td>\n",
       "      <td>ca</td>\n",
       "      <td>29.0</td>\n",
       "      <td>25969.0</td>\n",
       "      <td>black</td>\n",
       "      <td>black</td>\n",
       "      <td>financial services remarketing (lease)</td>\n",
       "      <td>34200.0</td>\n",
       "      <td>30000.0</td>\n",
       "    </tr>\n",
       "    <tr>\n",
       "      <th>83</th>\n",
       "      <td>2014</td>\n",
       "      <td>audi</td>\n",
       "      <td>TTS</td>\n",
       "      <td>Coupe</td>\n",
       "      <td>ca</td>\n",
       "      <td>28.0</td>\n",
       "      <td>3996.0</td>\n",
       "      <td>silver</td>\n",
       "      <td>black</td>\n",
       "      <td>fratelli investment group</td>\n",
       "      <td>41400.0</td>\n",
       "      <td>34250.0</td>\n",
       "    </tr>\n",
       "    <tr>\n",
       "      <th>89</th>\n",
       "      <td>2014</td>\n",
       "      <td>chevrolet</td>\n",
       "      <td>Silverado 2500HD</td>\n",
       "      <td>Crew Cab</td>\n",
       "      <td>ca</td>\n",
       "      <td>36.0</td>\n",
       "      <td>8742.0</td>\n",
       "      <td>white</td>\n",
       "      <td>gray</td>\n",
       "      <td>enterprise fleet management exchange  inc.</td>\n",
       "      <td>34000.0</td>\n",
       "      <td>34000.0</td>\n",
       "    </tr>\n",
       "    <tr>\n",
       "      <th>109</th>\n",
       "      <td>2014</td>\n",
       "      <td>cadillac</td>\n",
       "      <td>SRX</td>\n",
       "      <td>SUV</td>\n",
       "      <td>ca</td>\n",
       "      <td>44.0</td>\n",
       "      <td>8683.0</td>\n",
       "      <td>white</td>\n",
       "      <td>black</td>\n",
       "      <td>lease plan usa</td>\n",
       "      <td>33500.0</td>\n",
       "      <td>30000.0</td>\n",
       "    </tr>\n",
       "    <tr>\n",
       "      <th>228</th>\n",
       "      <td>2013</td>\n",
       "      <td>hyundai</td>\n",
       "      <td>Equus</td>\n",
       "      <td>Sedan</td>\n",
       "      <td>ca</td>\n",
       "      <td>43.0</td>\n",
       "      <td>11566.0</td>\n",
       "      <td>white</td>\n",
       "      <td>beige</td>\n",
       "      <td>hyundai buybacks</td>\n",
       "      <td>36800.0</td>\n",
       "      <td>25000.0</td>\n",
       "    </tr>\n",
       "    <tr>\n",
       "      <th>...</th>\n",
       "      <td>...</td>\n",
       "      <td>...</td>\n",
       "      <td>...</td>\n",
       "      <td>...</td>\n",
       "      <td>...</td>\n",
       "      <td>...</td>\n",
       "      <td>...</td>\n",
       "      <td>...</td>\n",
       "      <td>...</td>\n",
       "      <td>...</td>\n",
       "      <td>...</td>\n",
       "      <td>...</td>\n",
       "    </tr>\n",
       "    <tr>\n",
       "      <th>558306</th>\n",
       "      <td>2011</td>\n",
       "      <td>audi</td>\n",
       "      <td>Q7</td>\n",
       "      <td>suv</td>\n",
       "      <td>pa</td>\n",
       "      <td>5.0</td>\n",
       "      <td>52743.0</td>\n",
       "      <td>silver</td>\n",
       "      <td>beige</td>\n",
       "      <td>r hollenshead auto sales inc</td>\n",
       "      <td>33300.0</td>\n",
       "      <td>31600.0</td>\n",
       "    </tr>\n",
       "    <tr>\n",
       "      <th>558557</th>\n",
       "      <td>2012</td>\n",
       "      <td>dodge</td>\n",
       "      <td>Challenger</td>\n",
       "      <td>coupe</td>\n",
       "      <td>nv</td>\n",
       "      <td>5.0</td>\n",
       "      <td>25237.0</td>\n",
       "      <td>yellow</td>\n",
       "      <td>black</td>\n",
       "      <td>lotus of las vegas</td>\n",
       "      <td>33700.0</td>\n",
       "      <td>34750.0</td>\n",
       "    </tr>\n",
       "    <tr>\n",
       "      <th>558587</th>\n",
       "      <td>2010</td>\n",
       "      <td>ford</td>\n",
       "      <td>F-150</td>\n",
       "      <td>supercab</td>\n",
       "      <td>pa</td>\n",
       "      <td>43.0</td>\n",
       "      <td>57388.0</td>\n",
       "      <td>orange</td>\n",
       "      <td>black</td>\n",
       "      <td>r hollenshead auto sales inc</td>\n",
       "      <td>34400.0</td>\n",
       "      <td>34250.0</td>\n",
       "    </tr>\n",
       "    <tr>\n",
       "      <th>558779</th>\n",
       "      <td>2015</td>\n",
       "      <td>buick</td>\n",
       "      <td>Regal</td>\n",
       "      <td>sedan</td>\n",
       "      <td>mi</td>\n",
       "      <td>5.0</td>\n",
       "      <td>5678.0</td>\n",
       "      <td>black</td>\n",
       "      <td>black</td>\n",
       "      <td>gm remarketing</td>\n",
       "      <td>33900.0</td>\n",
       "      <td>18900.0</td>\n",
       "    </tr>\n",
       "    <tr>\n",
       "      <th>558832</th>\n",
       "      <td>2015</td>\n",
       "      <td>kia</td>\n",
       "      <td>K900</td>\n",
       "      <td>Sedan</td>\n",
       "      <td>in</td>\n",
       "      <td>45.0</td>\n",
       "      <td>18255.0</td>\n",
       "      <td>silver</td>\n",
       "      <td>black</td>\n",
       "      <td>avis corporation</td>\n",
       "      <td>35300.0</td>\n",
       "      <td>33000.0</td>\n",
       "    </tr>\n",
       "  </tbody>\n",
       "</table>\n",
       "<p>4500 rows × 12 columns</p>\n",
       "</div>"
      ],
      "text/plain": [
       "        year       make             model      body state  condition  \\\n",
       "21      2014        bmw          5 Series     Sedan    ca       29.0   \n",
       "83      2014       audi               TTS     Coupe    ca       28.0   \n",
       "89      2014  chevrolet  Silverado 2500HD  Crew Cab    ca       36.0   \n",
       "109     2014   cadillac               SRX       SUV    ca       44.0   \n",
       "228     2013    hyundai             Equus     Sedan    ca       43.0   \n",
       "...      ...        ...               ...       ...   ...        ...   \n",
       "558306  2011       audi                Q7       suv    pa        5.0   \n",
       "558557  2012      dodge        Challenger     coupe    nv        5.0   \n",
       "558587  2010       ford             F-150  supercab    pa       43.0   \n",
       "558779  2015      buick             Regal     sedan    mi        5.0   \n",
       "558832  2015        kia              K900     Sedan    in       45.0   \n",
       "\n",
       "        odometer   color interior                                      seller  \\\n",
       "21       25969.0   black    black      financial services remarketing (lease)   \n",
       "83        3996.0  silver    black                   fratelli investment group   \n",
       "89        8742.0   white     gray  enterprise fleet management exchange  inc.   \n",
       "109       8683.0   white    black                              lease plan usa   \n",
       "228      11566.0   white    beige                            hyundai buybacks   \n",
       "...          ...     ...      ...                                         ...   \n",
       "558306   52743.0  silver    beige                r hollenshead auto sales inc   \n",
       "558557   25237.0  yellow    black                          lotus of las vegas   \n",
       "558587   57388.0  orange    black                r hollenshead auto sales inc   \n",
       "558779    5678.0   black    black                              gm remarketing   \n",
       "558832   18255.0  silver    black                            avis corporation   \n",
       "\n",
       "            mmr  sellingprice  \n",
       "21      34200.0       30000.0  \n",
       "83      41400.0       34250.0  \n",
       "89      34000.0       34000.0  \n",
       "109     33500.0       30000.0  \n",
       "228     36800.0       25000.0  \n",
       "...         ...           ...  \n",
       "558306  33300.0       31600.0  \n",
       "558557  33700.0       34750.0  \n",
       "558587  34400.0       34250.0  \n",
       "558779  33900.0       18900.0  \n",
       "558832  35300.0       33000.0  \n",
       "\n",
       "[4500 rows x 12 columns]"
      ]
     },
     "metadata": {},
     "output_type": "display_data"
    }
   ],
   "source": [
    "# calculate IQR for mmr\n",
    "Q1 = df['mmr'].quantile(0.25)\n",
    "Q3 = df['mmr'].quantile(0.75)\n",
    "IQR = Q3 - Q1\n",
    "\n",
    "# identify outliers\n",
    "threshold = 1.5\n",
    "outliers_mmr = df[(df['mmr'] < Q1 - threshold * IQR) | (df['mmr'] > Q3 + threshold * IQR)]\n",
    "\n",
    "display(outliers_mmr)\n",
    "\n",
    "# Supprimer les valeurs aberrantes\n",
    "df = df.drop(outliers_mmr.index)"
   ]
  },
  {
   "cell_type": "code",
   "execution_count": 326,
   "metadata": {},
   "outputs": [
    {
     "name": "stdout",
     "output_type": "stream",
     "text": [
      "        year    make     model       body state  condition  odometer  color  \\\n",
      "0       2015     kia   Sorento        SUV    ca        5.0   16639.0  white   \n",
      "1       2015     kia   Sorento        SUV    ca        5.0    9393.0  white   \n",
      "2       2014     bmw  3 Series      Sedan    ca       45.0    1331.0   gray   \n",
      "3       2015   volvo       S60      Sedan    ca       41.0   14282.0  white   \n",
      "5       2015  nissan    Altima      Sedan    ca        1.0    5554.0   gray   \n",
      "...      ...     ...       ...        ...   ...        ...       ...    ...   \n",
      "558831  2011     bmw  5 Series      Sedan    fl       39.0   66403.0  white   \n",
      "558833  2012     ram      2500   Crew Cab    wa        5.0   54393.0  white   \n",
      "558834  2012     bmw        X5        SUV    ca       48.0   50561.0  black   \n",
      "558835  2015  nissan    Altima      sedan    ga       38.0   16658.0  white   \n",
      "558836  2014    ford     F-150  SuperCrew    ca       34.0   15008.0   gray   \n",
      "\n",
      "       interior                                             seller      mmr  \\\n",
      "0         black                            kia motors america  inc  20500.0   \n",
      "1         beige                            kia motors america  inc  20800.0   \n",
      "2         black             financial services remarketing (lease)  31900.0   \n",
      "3         black                            volvo na rep/world omni  27500.0   \n",
      "5         black  enterprise vehicle exchange / tra / rental / t...  15350.0   \n",
      "...         ...                                                ...      ...   \n",
      "558831    brown           lauderdale imports ltd bmw pembrok pines  20300.0   \n",
      "558833    black                                    i -5 uhlmann rv  30200.0   \n",
      "558834    black             financial services remarketing (lease)  29800.0   \n",
      "558835    black  enterprise vehicle exchange / tra / rental / t...  15100.0   \n",
      "558836     gray                   ford motor credit company llc pd  29600.0   \n",
      "\n",
      "        sellingprice  \n",
      "0            21500.0  \n",
      "1            21500.0  \n",
      "2            30000.0  \n",
      "3            27750.0  \n",
      "5            10900.0  \n",
      "...              ...  \n",
      "558831       22800.0  \n",
      "558833       30800.0  \n",
      "558834       34000.0  \n",
      "558835       11100.0  \n",
      "558836       26700.0  \n",
      "\n",
      "[492652 rows x 12 columns]\n"
     ]
    }
   ],
   "source": [
    "\n",
    "# Afficher le DataFrame sans valeurs aberrantes\n",
    "print(df)"
   ]
  },
  {
   "cell_type": "code",
   "execution_count": 327,
   "metadata": {},
   "outputs": [
    {
     "data": {
      "text/html": [
       "<div>\n",
       "<style scoped>\n",
       "    .dataframe tbody tr th:only-of-type {\n",
       "        vertical-align: middle;\n",
       "    }\n",
       "\n",
       "    .dataframe tbody tr th {\n",
       "        vertical-align: top;\n",
       "    }\n",
       "\n",
       "    .dataframe thead th {\n",
       "        text-align: right;\n",
       "    }\n",
       "</style>\n",
       "<table border=\"1\" class=\"dataframe\">\n",
       "  <thead>\n",
       "    <tr style=\"text-align: right;\">\n",
       "      <th></th>\n",
       "      <th>year</th>\n",
       "      <th>condition</th>\n",
       "      <th>odometer</th>\n",
       "      <th>mmr</th>\n",
       "      <th>sellingprice</th>\n",
       "    </tr>\n",
       "  </thead>\n",
       "  <tbody>\n",
       "    <tr>\n",
       "      <th>count</th>\n",
       "      <td>492652.000000</td>\n",
       "      <td>492652.000000</td>\n",
       "      <td>492652.000000</td>\n",
       "      <td>492652.000000</td>\n",
       "      <td>492652.000000</td>\n",
       "    </tr>\n",
       "    <tr>\n",
       "      <th>mean</th>\n",
       "      <td>2010.499247</td>\n",
       "      <td>31.162918</td>\n",
       "      <td>62618.861764</td>\n",
       "      <td>13325.088704</td>\n",
       "      <td>13168.820691</td>\n",
       "    </tr>\n",
       "    <tr>\n",
       "      <th>std</th>\n",
       "      <td>3.354242</td>\n",
       "      <td>13.043580</td>\n",
       "      <td>43909.632779</td>\n",
       "      <td>7204.847600</td>\n",
       "      <td>7329.961290</td>\n",
       "    </tr>\n",
       "    <tr>\n",
       "      <th>min</th>\n",
       "      <td>2001.000000</td>\n",
       "      <td>1.000000</td>\n",
       "      <td>1.000000</td>\n",
       "      <td>25.000000</td>\n",
       "      <td>100.000000</td>\n",
       "    </tr>\n",
       "    <tr>\n",
       "      <th>25%</th>\n",
       "      <td>2008.000000</td>\n",
       "      <td>25.000000</td>\n",
       "      <td>28215.750000</td>\n",
       "      <td>8075.000000</td>\n",
       "      <td>7800.000000</td>\n",
       "    </tr>\n",
       "    <tr>\n",
       "      <th>50%</th>\n",
       "      <td>2012.000000</td>\n",
       "      <td>35.000000</td>\n",
       "      <td>49735.000000</td>\n",
       "      <td>12500.000000</td>\n",
       "      <td>12400.000000</td>\n",
       "    </tr>\n",
       "    <tr>\n",
       "      <th>75%</th>\n",
       "      <td>2013.000000</td>\n",
       "      <td>42.000000</td>\n",
       "      <td>92050.000000</td>\n",
       "      <td>17900.000000</td>\n",
       "      <td>17800.000000</td>\n",
       "    </tr>\n",
       "    <tr>\n",
       "      <th>max</th>\n",
       "      <td>2015.000000</td>\n",
       "      <td>49.000000</td>\n",
       "      <td>193744.000000</td>\n",
       "      <td>33100.000000</td>\n",
       "      <td>35000.000000</td>\n",
       "    </tr>\n",
       "  </tbody>\n",
       "</table>\n",
       "</div>"
      ],
      "text/plain": [
       "                year      condition       odometer            mmr  \\\n",
       "count  492652.000000  492652.000000  492652.000000  492652.000000   \n",
       "mean     2010.499247      31.162918   62618.861764   13325.088704   \n",
       "std         3.354242      13.043580   43909.632779    7204.847600   \n",
       "min      2001.000000       1.000000       1.000000      25.000000   \n",
       "25%      2008.000000      25.000000   28215.750000    8075.000000   \n",
       "50%      2012.000000      35.000000   49735.000000   12500.000000   \n",
       "75%      2013.000000      42.000000   92050.000000   17900.000000   \n",
       "max      2015.000000      49.000000  193744.000000   33100.000000   \n",
       "\n",
       "        sellingprice  \n",
       "count  492652.000000  \n",
       "mean    13168.820691  \n",
       "std      7329.961290  \n",
       "min       100.000000  \n",
       "25%      7800.000000  \n",
       "50%     12400.000000  \n",
       "75%     17800.000000  \n",
       "max     35000.000000  "
      ]
     },
     "execution_count": 327,
     "metadata": {},
     "output_type": "execute_result"
    }
   ],
   "source": [
    "df.describe()"
   ]
  },
  {
   "cell_type": "code",
   "execution_count": 328,
   "metadata": {},
   "outputs": [
    {
     "data": {
      "text/plain": [
       "year            0\n",
       "make            0\n",
       "model           0\n",
       "body            0\n",
       "state           0\n",
       "condition       0\n",
       "odometer        0\n",
       "color           0\n",
       "interior        0\n",
       "seller          0\n",
       "mmr             0\n",
       "sellingprice    0\n",
       "dtype: int64"
      ]
     },
     "execution_count": 328,
     "metadata": {},
     "output_type": "execute_result"
    }
   ],
   "source": [
    "df.isnull().sum()"
   ]
  },
  {
   "cell_type": "code",
   "execution_count": 329,
   "metadata": {},
   "outputs": [
    {
     "data": {
      "text/plain": [
       "year            False\n",
       "make            False\n",
       "model           False\n",
       "body            False\n",
       "state           False\n",
       "condition       False\n",
       "odometer        False\n",
       "color           False\n",
       "interior        False\n",
       "seller          False\n",
       "mmr             False\n",
       "sellingprice    False\n",
       "dtype: bool"
      ]
     },
     "execution_count": 329,
     "metadata": {},
     "output_type": "execute_result"
    }
   ],
   "source": [
    "df.isnull().any()"
   ]
  },
  {
   "cell_type": "code",
   "execution_count": 330,
   "metadata": {},
   "outputs": [
    {
     "name": "stderr",
     "output_type": "stream",
     "text": [
      "c:\\Users\\X\\anaconda3\\Lib\\site-packages\\seaborn\\axisgrid.py:118: UserWarning: The figure layout has changed to tight\n",
      "  self._figure.tight_layout(*args, **kwargs)\n"
     ]
    },
    {
     "data": {
      "image/png": "[encoded data removed]",
      "text/plain": [
       "<Figure size 500x500 with 1 Axes>"
      ]
     },
     "metadata": {},
     "output_type": "display_data"
    }
   ],
   "source": [
    "sns.displot(df['sellingprice'], bins=30, kde=True, color='skyblue')  # Add KDE for density visualization\n",
    "plt.title('Distribution of Selling Prices')\n",
    "plt.xlabel('Price')\n",
    "plt.ylabel('Density')\n",
    "plt.show()"
   ]
  },
  {
   "cell_type": "code",
   "execution_count": 331,
   "metadata": {},
   "outputs": [
    {
     "data": {
      "image/png": "[encoded data removed]",
      "text/plain": [
       "<Figure size 1500x600 with 1 Axes>"
      ]
     },
     "metadata": {},
     "output_type": "display_data"
    }
   ],
   "source": [
    "plt.figure(figsize=(15, 6))\n",
    "plt.hist(df['sellingprice'], bins=30, edgecolor='black', alpha=0.7)\n",
    "plt.title('Distribution of Prices')\n",
    "plt.xlabel('Price')\n",
    "plt.ylabel('Frequency')\n",
    "plt.show()"
   ]
  },
  {
   "cell_type": "markdown",
   "metadata": {},
   "source": [
    "PASSAGE A LA REGRESSION LINEAIRE"
   ]
  },
  {
   "cell_type": "code",
   "execution_count": 332,
   "metadata": {},
   "outputs": [
    {
     "name": "stdout",
     "output_type": "stream",
     "text": [
      "Features (X):\n",
      "   year    make   body state  condition  odometer  color interior  \\\n",
      "0  2015     kia    SUV    ca        5.0   16639.0  white    black   \n",
      "1  2015     kia    SUV    ca        5.0    9393.0  white    beige   \n",
      "2  2014     bmw  Sedan    ca       45.0    1331.0   gray    black   \n",
      "3  2015   volvo  Sedan    ca       41.0   14282.0  white    black   \n",
      "5  2015  nissan  Sedan    ca        1.0    5554.0   gray    black   \n",
      "\n",
      "                                              seller      mmr  \n",
      "0                            kia motors america  inc  20500.0  \n",
      "1                            kia motors america  inc  20800.0  \n",
      "2             financial services remarketing (lease)  31900.0  \n",
      "3                            volvo na rep/world omni  27500.0  \n",
      "5  enterprise vehicle exchange / tra / rental / t...  15350.0  \n",
      "\n",
      "Target Variable (y):\n",
      "0    21500.0\n",
      "1    21500.0\n",
      "2    30000.0\n",
      "3    27750.0\n",
      "5    10900.0\n",
      "Name: sellingprice, dtype: float64\n",
      "...Done.\n"
     ]
    }
   ],
   "source": [
    "# Assuming your DataFrame is named 'df'\n",
    "\n",
    "# Create a list containing the feature column names\n",
    "features_list = [\"year\", \"make\", \"body\",\n",
    "                 \"state\", \"condition\", \"odometer\", \"color\", \"interior\", \"seller\", \"mmr\"]\n",
    "\n",
    "# Select features (all columns except 'sellingprice')\n",
    "X = df[features_list]\n",
    "\n",
    "# Select the target variable (sellingprice)\n",
    "y = df['sellingprice']\n",
    "\n",
    "# Print confirmation message\n",
    "print(\"Features (X):\")\n",
    "print(X.head())\n",
    "\n",
    "print(\"\\nTarget Variable (y):\")\n",
    "print(y.head())\n",
    "\n",
    "print(\"...Done.\")"
   ]
  },
  {
   "cell_type": "code",
   "execution_count": 333,
   "metadata": {},
   "outputs": [
    {
     "data": {
      "text/plain": [
       "year            False\n",
       "make            False\n",
       "model           False\n",
       "body            False\n",
       "state           False\n",
       "condition       False\n",
       "odometer        False\n",
       "color           False\n",
       "interior        False\n",
       "seller          False\n",
       "mmr             False\n",
       "sellingprice    False\n",
       "dtype: bool"
      ]
     },
     "execution_count": 333,
     "metadata": {},
     "output_type": "execute_result"
    }
   ],
   "source": [
    "df.isnull().any()"
   ]
  },
  {
   "cell_type": "code",
   "execution_count": 334,
   "metadata": {},
   "outputs": [
    {
     "name": "stdout",
     "output_type": "stream",
     "text": [
      "Splitting dataset into train set and test set...\n",
      "...Done.\n"
     ]
    }
   ],
   "source": [
    "# Divide dataset Train set & Test set \n",
    "## First we import train_test_split\n",
    "\n",
    "\n",
    "print(\"Splitting dataset into train set and test set...\")\n",
    "## Then we use train_test_split\n",
    "X_train, X_test, y_train, y_test = train_test_split(X, y, \n",
    "                                                    test_size=0.2, \n",
    "                                                    random_state=0) # Allows you to stratify your sample. \n",
    "                                                                # Meaning, you will have the same\n",
    "                                                                # proportion of categories in test \n",
    "                                                                # and train set\n",
    "\n",
    "print(\"...Done.\")  "
   ]
  },
  {
   "cell_type": "code",
   "execution_count": 335,
   "metadata": {},
   "outputs": [
    {
     "name": "stdout",
     "output_type": "stream",
     "text": [
      "Imputing missing values...\n",
      "        year       make       body state  condition  odometer   color  \\\n",
      "523367  2012       jeep        suv    pa       49.0   24316.0  orange   \n",
      "356917  2011     jaguar      Sedan    fl       27.0   28775.0   black   \n",
      "341395  2014     subaru      Wagon    nj       49.0   11662.0       —   \n",
      "172697  2013     subaru        SUV    pa       24.0   33448.0   black   \n",
      "459672  2014  chevrolet      Sedan    fl        4.0   19421.0   white   \n",
      "...      ...        ...        ...   ...        ...       ...     ...   \n",
      "499152  2011   mercedes        suv    ca       25.0   34132.0   black   \n",
      "143348  2006        kia      Sedan    il       27.0  118565.0   black   \n",
      "495517  2001      honda      sedan    nj       35.0   97522.0   white   \n",
      "351627  2013     nissan  Hatchback    tx       39.0   41002.0    blue   \n",
      "523962  2012     nissan      sedan    fl       19.0   25330.0   black   \n",
      "\n",
      "       interior                               seller      mmr  \n",
      "523367    black                big tree auto brokers  32100.0  \n",
      "356917    black                        d&a fine cars  25500.0  \n",
      "341395    black                    subaru of america  22300.0  \n",
      "172697     gray             jpmorgan chase bank n.a.  17750.0  \n",
      "459672    beige                       gm remarketing  14850.0  \n",
      "...         ...                                  ...      ...  \n",
      "499152     gray     mercedes-benz financial services  25000.0  \n",
      "143348     gray                   santander consumer   2600.0  \n",
      "495517      tan      lakeview service of clifton inc   2075.0  \n",
      "351627    black  nissan motor acceptance corporation  13200.0  \n",
      "523962    black                   nissan-infiniti lt  11400.0  \n",
      "\n",
      "[394121 rows x 10 columns]\n",
      "\n",
      "...Done!\n",
      "        year       make       body state  condition  odometer   color  \\\n",
      "523367  2012       jeep        suv    pa       49.0   24316.0  orange   \n",
      "356917  2011     jaguar      Sedan    fl       27.0   28775.0   black   \n",
      "341395  2014     subaru      Wagon    nj       49.0   11662.0       —   \n",
      "172697  2013     subaru        SUV    pa       24.0   33448.0   black   \n",
      "459672  2014  chevrolet      Sedan    fl        4.0   19421.0   white   \n",
      "...      ...        ...        ...   ...        ...       ...     ...   \n",
      "499152  2011   mercedes        suv    ca       25.0   34132.0   black   \n",
      "143348  2006        kia      Sedan    il       27.0  118565.0   black   \n",
      "495517  2001      honda      sedan    nj       35.0   97522.0   white   \n",
      "351627  2013     nissan  Hatchback    tx       39.0   41002.0    blue   \n",
      "523962  2012     nissan      sedan    fl       19.0   25330.0   black   \n",
      "\n",
      "       interior                               seller      mmr  \n",
      "523367    black                big tree auto brokers  32100.0  \n",
      "356917    black                        d&a fine cars  25500.0  \n",
      "341395    black                    subaru of america  22300.0  \n",
      "172697     gray             jpmorgan chase bank n.a.  17750.0  \n",
      "459672    beige                       gm remarketing  14850.0  \n",
      "...         ...                                  ...      ...  \n",
      "499152     gray     mercedes-benz financial services  25000.0  \n",
      "143348     gray                   santander consumer   2600.0  \n",
      "495517      tan      lakeview service of clifton inc   2075.0  \n",
      "351627    black  nissan motor acceptance corporation  13200.0  \n",
      "523962    black                   nissan-infiniti lt  11400.0  \n",
      "\n",
      "[394121 rows x 10 columns]\n",
      "\n"
     ]
    }
   ],
   "source": [
    "# Missing values\n",
    "print(\"Imputing missing values...\")\n",
    "print(X_train)\n",
    "print()\n",
    "imputer = SimpleImputer(strategy=\"mean\") # Instanciate class of SimpleImputer with strategy of mean\n",
    "\n",
    "X_train.iloc[:,[4,5,9]] = imputer.fit_transform(X_train.iloc[:,[4,5,9]]) # Fit and transform columns where there are missing values\n",
    "print(\"...Done!\")\n",
    "print(X_train) \n",
    "print()  "
   ]
  },
  {
   "cell_type": "code",
   "execution_count": 336,
   "metadata": {},
   "outputs": [
    {
     "name": "stdout",
     "output_type": "stream",
     "text": [
      "[(0, 'year'), (1, 'make'), (2, 'model'), (3, 'body'), (5, 'state'), (7, 'condition'), (8, 'odometer'), (9, 'color'), (11, 'interior'), (12, 'seller'), (13, 'mmr'), (15, 'sellingprice')]\n"
     ]
    }
   ],
   "source": [
    "# Accéder à l'objet index\n",
    "index_df = df.index\n",
    "\n",
    "# Accéder aux noms des colonnes\n",
    "noms_colonnes = df.columns\n",
    "\n",
    "# Combiner les index et les noms des colonnes\n",
    "index_avec_colonnes = list(zip(index_df, noms_colonnes))\n",
    "\n",
    "# Afficher les index avec les noms des colonnes\n",
    "print(index_avec_colonnes)"
   ]
  },
  {
   "cell_type": "code",
   "execution_count": 337,
   "metadata": {},
   "outputs": [
    {
     "name": "stdout",
     "output_type": "stream",
     "text": [
      "Imputing missing values...\n",
      "        year        make      body state  condition  odometer   color  \\\n",
      "195421  2007        ford       SUV    nj       19.0   99219.0    gray   \n",
      "186836  2004         gmc       SUV    fl       36.0   90918.0   white   \n",
      "287258  2009         kia     Sedan    fl        2.0  117672.0  silver   \n",
      "279793  2008  land rover       SUV    tx       21.0   81379.0  silver   \n",
      "13968   2009       honda       SUV    fl       35.0   80191.0    gray   \n",
      "...      ...         ...       ...   ...        ...       ...     ...   \n",
      "66955   2006       dodge  Quad Cab    oh        4.0   92915.0   black   \n",
      "217123  2012       honda     Sedan    ga       43.0   28747.0    gray   \n",
      "272003  2014         kia     Wagon    oh       49.0   10818.0     red   \n",
      "295669  2011     hyundai     Sedan    in       48.0   42347.0    gray   \n",
      "61661   2013       honda       SUV    pa       31.0   39286.0    gray   \n",
      "\n",
      "       interior                                 seller      mmr  \n",
      "195421     gray       holman ford lincoln turnersville   5450.0  \n",
      "186836    beige                andrew thomas motorcars   8550.0  \n",
      "287258     gray                           gm financial   3125.0  \n",
      "279793    black  remarketing by ge/manheim san antonio  21200.0  \n",
      "13968     beige                            wilde honda  14050.0  \n",
      "...         ...                                    ...      ...  \n",
      "66955      gray                   9209 0851 quebec inc  23100.0  \n",
      "217123    black   ahfc/honda lease trust/hvt  inc. eot  13650.0  \n",
      "272003    black                kia motors america  inc  14200.0  \n",
      "295669     gray                     santander consumer  13150.0  \n",
      "61661      gray                       avis corporation  17150.0  \n",
      "\n",
      "[98531 rows x 10 columns]\n",
      "\n",
      "...Done!\n",
      "        year        make      body state  condition  odometer   color  \\\n",
      "195421  2007        ford       SUV    nj       19.0   99219.0    gray   \n",
      "186836  2004         gmc       SUV    fl       36.0   90918.0   white   \n",
      "287258  2009         kia     Sedan    fl        2.0  117672.0  silver   \n",
      "279793  2008  land rover       SUV    tx       21.0   81379.0  silver   \n",
      "13968   2009       honda       SUV    fl       35.0   80191.0    gray   \n",
      "...      ...         ...       ...   ...        ...       ...     ...   \n",
      "66955   2006       dodge  Quad Cab    oh        4.0   92915.0   black   \n",
      "217123  2012       honda     Sedan    ga       43.0   28747.0    gray   \n",
      "272003  2014         kia     Wagon    oh       49.0   10818.0     red   \n",
      "295669  2011     hyundai     Sedan    in       48.0   42347.0    gray   \n",
      "61661   2013       honda       SUV    pa       31.0   39286.0    gray   \n",
      "\n",
      "       interior                                 seller      mmr  \n",
      "195421     gray       holman ford lincoln turnersville   5450.0  \n",
      "186836    beige                andrew thomas motorcars   8550.0  \n",
      "287258     gray                           gm financial   3125.0  \n",
      "279793    black  remarketing by ge/manheim san antonio  21200.0  \n",
      "13968     beige                            wilde honda  14050.0  \n",
      "...         ...                                    ...      ...  \n",
      "66955      gray                   9209 0851 quebec inc  23100.0  \n",
      "217123    black   ahfc/honda lease trust/hvt  inc. eot  13650.0  \n",
      "272003    black                kia motors america  inc  14200.0  \n",
      "295669     gray                     santander consumer  13150.0  \n",
      "61661      gray                       avis corporation  17150.0  \n",
      "\n",
      "[98531 rows x 10 columns]\n",
      "\n"
     ]
    }
   ],
   "source": [
    "# Missing values\n",
    "print(\"Imputing missing values...\")\n",
    "print(X_test)\n",
    "print()\n",
    "imputer = SimpleImputer(strategy=\"mean\") # Instanciate class of SimpleImputer with strategy of mean\n",
    "\n",
    "X_test.iloc[:,[4,5,9]] = imputer.fit_transform(X_test.iloc[:,[4,5,9]]) # Fit and transform columns where there are missing values\n",
    "print(\"...Done!\")\n",
    "print(X_test) \n",
    "print() "
   ]
  },
  {
   "cell_type": "code",
   "execution_count": 338,
   "metadata": {},
   "outputs": [
    {
     "name": "stdout",
     "output_type": "stream",
     "text": [
      "Encoding categorical features and standardizing numerical features...\n",
      "\n"
     ]
    },
    {
     "name": "stdout",
     "output_type": "stream",
     "text": [
      "...Done.\n",
      "  (0, 11)\t1.0\n",
      "  (0, 33)\t1.0\n",
      "  (0, 131)\t1.0\n",
      "  (0, 165)\t1.0\n",
      "  (0, 186)\t1.0\n",
      "  (0, 196)\t1.0\n",
      "  (0, 1686)\t1.0\n",
      "  (0, 11330)\t1.368318679971104\n",
      "  (0, 11331)\t-0.8718326089781948\n",
      "  (0, 11332)\t2.6051029221079274\n",
      "  (1, 10)\t1.0\n",
      "  (1, 32)\t1.0\n",
      "  (1, 90)\t1.0\n",
      "  (1, 142)\t1.0\n",
      "  (1, 176)\t1.0\n",
      "  (1, 196)\t1.0\n",
      "  (1, 3118)\t1.0\n",
      "  (1, 11330)\t-0.3200218320364048\n",
      "  (1, 11331)\t-0.7702194198170914\n",
      "  (1, 11332)\t1.6889564490697517\n",
      "  (2, 13)\t1.0\n",
      "  (2, 54)\t1.0\n",
      "  (2, 96)\t1.0\n",
      "  (2, 156)\t1.0\n",
      "  (2, 194)\t1.0\n",
      "  (2, 196)\t1.0\n",
      "  (2, 9924)\t1.0\n",
      "  (2, 11330)\t1.368318679971104\n",
      "  (2, 11331)\t-1.1601962097058471\n",
      "  (2, 11332)\t1.244764219717909\n",
      "  (3, 12)\t1.0\n",
      "  (3, 54)\t1.0\n",
      "  (3, 89)\t1.0\n",
      "  (3, 165)\t1.0\n",
      "  (3, 176)\t1.0\n",
      "  (3, 201)\t1.0\n",
      "  (3, 5686)\t1.0\n",
      "  (3, 11330)\t-0.5502500836737924\n",
      "  (3, 11331)\t-0.6637295268029995\n",
      "  (3, 11332)\t0.6131783936082577\n",
      "  (4, 13)\t1.0\n",
      "  (4, 20)\t1.0\n",
      "  (4, 90)\t1.0\n",
      "  (4, 142)\t1.0\n",
      "  (4, 192)\t1.0\n",
      "  (4, 195)\t1.0\n",
      "  (4, 4624)\t1.0\n",
      "  (4, 11330)\t-2.0851050945897094\n",
      "  (4, 11331)\t-0.9833815125313683\n",
      "  (4, 11332)\t0.21062918575815015\n",
      "\n"
     ]
    }
   ],
   "source": [
    "# Encoding categorical features and standardizing numeric features\n",
    "print(\"Encoding categorical features and standardizing numerical features...\")\n",
    "print()\n",
    "\n",
    "\n",
    "numeric_features = [4,5,9]\n",
    "numeric_transformer = StandardScaler()\n",
    "\n",
    "categorical_features = [0, 1, 2, 3, 6, 7, 8]\n",
    "categorical_transformer = OneHotEncoder(handle_unknown='ignore')\n",
    "\n",
    "featureencoder = ColumnTransformer(\n",
    "    transformers=[\n",
    "        ('cat', categorical_transformer, categorical_features),    \n",
    "        ('num', numeric_transformer, numeric_features)\n",
    "        ]\n",
    "    )\n",
    "\n",
    "X_train = featureencoder.fit_transform(X_train)\n",
    "print(\"...Done.\")\n",
    "print(X_train[:5]) # print first 5 rows (not using iloc since now X_train became a numpy array)\n",
    "print()"
   ]
  },
  {
   "cell_type": "code",
   "execution_count": 339,
   "metadata": {},
   "outputs": [
    {
     "name": "stdout",
     "output_type": "stream",
     "text": [
      "--- Testing pipeline ---\n",
      "  (0, 6)\t1.0\n",
      "  (0, 25)\t1.0\n",
      "  (0, 89)\t1.0\n",
      "  (0, 156)\t1.0\n",
      "  (0, 182)\t1.0\n",
      "  (0, 201)\t1.0\n",
      "  (0, 5083)\t1.0\n",
      "  (0, 11330)\t-0.9339638364027716\n",
      "  (0, 11331)\t0.8350821045750966\n",
      "  (0, 11332)\t-1.0941854879628878\n",
      "  (1, 3)\t1.0\n",
      "  (1, 26)\t1.0\n",
      "  (1, 89)\t1.0\n",
      "  (1, 142)\t1.0\n",
      "  (1, 192)\t1.0\n",
      "  (1, 195)\t1.0\n",
      "  (1, 719)\t1.0\n",
      "  (1, 11330)\t0.37066292287575797\n",
      "  (1, 11331)\t0.6459161294178148\n",
      "  (1, 11332)\t-0.6638742657782902\n",
      "  (2, 8)\t1.0\n",
      "  (2, 34)\t1.0\n",
      "  (2, 90)\t1.0\n",
      "  (2, 142)\t1.0\n",
      "  (2, 190)\t1.0\n",
      "  (2, 201)\t1.0\n",
      "  (2, 4621)\t1.0\n",
      "  (2, 11330)\t-2.238590595681301\n",
      "  (2, 11331)\t1.255595264384435\n",
      "  (2, 11332)\t-1.4169189046013362\n",
      "  (3, 7)\t1.0\n",
      "  (3, 35)\t1.0\n",
      "  (3, 89)\t1.0\n",
      "  (3, 170)\t1.0\n",
      "  (3, 190)\t1.0\n",
      "  (3, 196)\t1.0\n",
      "  (3, 8818)\t1.0\n",
      "  (3, 11330)\t-0.7804783353111799\n",
      "  (3, 11331)\t0.42853819458763653\n",
      "  (3, 11332)\t1.0920731408782132\n",
      "  (4, 8)\t1.0\n",
      "  (4, 27)\t1.0\n",
      "  (4, 89)\t1.0\n",
      "  (4, 142)\t1.0\n",
      "  (4, 182)\t1.0\n",
      "  (4, 195)\t1.0\n",
      "  (4, 11183)\t1.0\n",
      "  (4, 11330)\t0.2939201723299621\n",
      "  (4, 11331)\t0.40146565170282134\n",
      "  (4, 11332)\t0.09958112842018947\n"
     ]
    }
   ],
   "source": [
    "\n",
    "### Testing pipeline ###\n",
    "print(\"--- Testing pipeline ---\")\n",
    "\n",
    "# Standardizing numeric features\n",
    "###print(\"Standardizing numerical features...\")\n",
    "###print(X_test)\n",
    "###print()\n",
    "\n",
    "X_test = featureencoder.transform(X_test)\n",
    "\n",
    "###print(\"...Done.\")\n",
    "print(X_test[:5]) # print first 5 rows (not using iloc since now X_test became a numpy array)\n",
    "###print()"
   ]
  },
  {
   "cell_type": "code",
   "execution_count": 340,
   "metadata": {},
   "outputs": [
    {
     "name": "stdout",
     "output_type": "stream",
     "text": [
      "Train model...\n",
      "...Done.\n"
     ]
    }
   ],
   "source": [
    "# Train model\n",
    "print(\"Train model...\")\n",
    "regressor = LinearRegression()\n",
    "regressor.fit(X_train, y_train) # This steps is the actual training !\n",
    "print(\"...Done.\")"
   ]
  },
  {
   "cell_type": "code",
   "execution_count": 341,
   "metadata": {},
   "outputs": [
    {
     "name": "stdout",
     "output_type": "stream",
     "text": [
      "Predictions on training set...\n",
      "...Done.\n",
      "[31977.52765027 25023.38247202 22432.57866931 16856.05748648\n",
      " 15137.94699368]\n",
      "\n"
     ]
    }
   ],
   "source": [
    "# Predictions on training set\n",
    "print(\"Predictions on training set...\")\n",
    "y_train_pred = regressor.predict(X_train)\n",
    "print(\"...Done.\")\n",
    "print(y_train_pred[:5]) # print first 5 rows (not using iloc since now y_train became a numpy array)\n",
    "print()"
   ]
  },
  {
   "cell_type": "code",
   "execution_count": 342,
   "metadata": {},
   "outputs": [
    {
     "name": "stdout",
     "output_type": "stream",
     "text": [
      "Predictions on test set...\n",
      "...Done.\n",
      "[ 5182.60511847  9857.4062814   2014.79788631 18273.25361564\n",
      " 14284.31269815]\n",
      "\n"
     ]
    }
   ],
   "source": [
    "# Predictions on test set\n",
    "print(\"Predictions on test set...\")\n",
    "y_test_pred = regressor.predict(X_test)\n",
    "print(\"...Done.\")\n",
    "print(y_test_pred[:5])\n",
    "print()"
   ]
  },
  {
   "cell_type": "code",
   "execution_count": 343,
   "metadata": {},
   "outputs": [
    {
     "name": "stdout",
     "output_type": "stream",
     "text": [
      "--- Assessing the performances of the model ---\n",
      "R2 score on training set :  0.9651206457178327\n",
      "R2 score on test set :  0.9624029634481235\n"
     ]
    }
   ],
   "source": [
    "# Performance assessment\n",
    "print(\"--- Assessing the performances of the model ---\")\n",
    "\n",
    "score_r2_entrainement = regressor.score(X_train, y_train)\n",
    "score_r2_test = regressor.score(X_test, y_test)\n",
    "\n",
    "# Print R^2 scores\n",
    "print(\"R2 score on training set : \", score_r2_entrainement)\n",
    "print(\"R2 score on test set : \", score_r2_test )"
   ]
  },
  {
   "cell_type": "code",
   "execution_count": 344,
   "metadata": {},
   "outputs": [
    {
     "data": {
      "image/png": "[encoded data removed]",
      "text/plain": [
       "<Figure size 800x600 with 1 Axes>"
      ]
     },
     "metadata": {},
     "output_type": "display_data"
    }
   ],
   "source": [
    "# Créer un histogramme à barres\n",
    "plt.figure(figsize=(8, 6))  # Ajuster la taille de la figure si nécessaire\n",
    "plt.bar(['Ensemble dentraînement', 'Ensemble de test'], [score_r2_entrainement, score_r2_test])\n",
    "plt.xlabel('Ensemble de données')\n",
    "plt.ylabel('Score R²')\n",
    "plt.title('Scores R² sur les ensembles dentraînement et de test')\n",
    "plt.xticks(rotation=0)  # Rotation des étiquettes de l'axe x pour une meilleure lisibilité\n",
    "plt.grid(axis='y', linestyle='--', alpha=0.6)  # Ajouter un quadrillage discret\n",
    "plt.tight_layout()  # Ajuster l'espacement pour une meilleure présentation\n",
    "plt.show()"
   ]
  },
  {
   "cell_type": "code",
   "execution_count": 348,
   "metadata": {},
   "outputs": [
    {
     "data": {
      "image/png": "[encoded data removed]",
      "text/plain": [
       "<Figure size 640x480 with 1 Axes>"
      ]
     },
     "metadata": {},
     "output_type": "display_data"
    }
   ],
   "source": [
    "dense_array = X_train[:, 0].toarray().ravel()\n",
    "plt.scatter(dense_array, y_train)\n",
    "plt.plot(dense_array, regressor.predict(X_train))\n",
    "plt.xlabel(\"Caractéristique de la voiture\")\n",
    "plt.ylabel(\"Prix de vente\")\n",
    "plt.title(\"Prix vs. Caractéristique (Score R² : {:.2f})\".format(score_r2_entrainement))\n",
    "plt.grid(True)\n",
    "plt.show()"
   ]
  },
  {
   "cell_type": "markdown",
   "metadata": {},
   "source": [
    "PASSAGE AU FEATURE IMPORTANCE"
   ]
  },
  {
   "cell_type": "code",
   "execution_count": null,
   "metadata": {},
   "outputs": [
    {
     "name": "stdout",
     "output_type": "stream",
     "text": [
      "coefficients are:  [ 225.32888612  191.33506421  151.11914011 ...  428.38370851 -125.38269571\n",
      " 6858.0706099 ]\n",
      "Constant is:  13073.512707302249\n",
      "5911824\n"
     ]
    }
   ],
   "source": [
    "print(\"coefficients are: \", regressor.coef_) \n",
    "print(\"Constant is: \", regressor.intercept_)\n",
    "\n",
    "# Nombre de coefficients\n",
    "nombre_coefficients = df.size\n",
    "\n",
    "print(nombre_coefficients)"
   ]
  },
  {
   "cell_type": "code",
   "execution_count": null,
   "metadata": {},
   "outputs": [
    {
     "data": {
      "text/plain": [
       "<5x11333 sparse matrix of type '<class 'numpy.float64'>'\n",
       "\twith 50 stored elements in Compressed Sparse Row format>"
      ]
     },
     "execution_count": 66,
     "metadata": {},
     "output_type": "execute_result"
    }
   ],
   "source": [
    "X_train[:5] # Visualize the first 5 rows of your X_train"
   ]
  },
  {
   "cell_type": "code",
   "execution_count": null,
   "metadata": {},
   "outputs": [
    {
     "name": "stdout",
     "output_type": "stream",
     "text": [
      "All transformers are:  [('cat', OneHotEncoder(handle_unknown='ignore'), [0, 1, 2, 3, 6, 7, 8]), ('num', StandardScaler(), [4, 5, 9])]\n",
      "One Hot Encoder transformer is:  OneHotEncoder(handle_unknown='ignore')\n"
     ]
    }
   ],
   "source": [
    "# Access transformers from feature_encoder\n",
    "print(\"All transformers are: \", featureencoder.transformers_)\n",
    "\n",
    "# Access one specific transformer\n",
    "print(\"One Hot Encoder transformer is: \", featureencoder.transformers_[0][1])"
   ]
  },
  {
   "cell_type": "code",
   "execution_count": null,
   "metadata": {},
   "outputs": [
    {
     "name": "stdout",
     "output_type": "stream",
     "text": [
      "Nombre de coefficients: 11333\n",
      "Indices des 5 coefficients les plus importants (valeur absolue décroissante): [3695 7559 1088 9280 9476]\n"
     ]
    }
   ],
   "source": [
    "# Assuming regressor is a fitted regression model with numerical coefficients\n",
    "\n",
    "# Get the number of coefficients\n",
    "nombre_coefficients = len(regressor.coef_)\n",
    "\n",
    "# Print the number of coefficients\n",
    "print(\"Nombre de coefficients:\", nombre_coefficients)\n",
    "\n",
    "# Get the absolute values of the coefficients\n",
    "abs_coefficients = np.abs(regressor.coef_)\n",
    "\n",
    "# Extract the indices of the top 5 coefficients (in descending absolute value)\n",
    "top_5_coefficients = np.argsort(abs_coefficients)[-5:]\n",
    "\n",
    "# Print the indices of the top 5 coefficients\n",
    "print(\"Indices des 5 coefficients les plus importants (valeur absolue décroissante):\", top_5_coefficients)"
   ]
  },
  {
   "cell_type": "code",
   "execution_count": null,
   "metadata": {},
   "outputs": [
    {
     "name": "stdout",
     "output_type": "stream",
     "text": [
      "Top 5 Features and Their Absolute Coefficients :\n",
      "  Feature  Absolute Coefficient\n",
      "0    year            225.328886\n",
      "1    make            191.335064\n",
      "2   model            151.119140\n",
      "3    body            117.679644\n",
      "4   state             91.338558\n"
     ]
    }
   ],
   "source": [
    "# Assuming `df` is your DataFrame with feature names as column titles\n",
    "features = df.columns\n",
    "\n",
    "# ... (your existing code to get abs_coefficients)\n",
    "\n",
    "# Check if there are at least 5 coefficients\n",
    "if len(abs_coefficients) < 5:\n",
    "    print(\"There are less than 5 coefficients. No features to display.\")\n",
    "else:\n",
    "    # Limit the number of features to 5 (or the actual number of coefficients)\n",
    "    top_n_features = min(len(abs_coefficients), 5)\n",
    "\n",
    "    # Create a list of tuples containing feature-coefficient pairs\n",
    "    feature_importance = []\n",
    "    for i in range(top_n_features):\n",
    "        feature_importance.append((features[i], abs_coefficients[i]))\n",
    "\n",
    "    # Create a DataFrame from the list of tuples\n",
    "    top_features_df = pd.DataFrame(feature_importance, columns=['Feature', 'Absolute Coefficient'])\n",
    "\n",
    "    # Print the DataFrame with clear labeling\n",
    "    print(\"Top 5 Features and Their Absolute Coefficients :\")\n",
    "    print(top_features_df)"
   ]
  }
 ],
 "metadata": {
  "kernelspec": {
   "display_name": "base",
   "language": "python",
   "name": "python3"
  },
  "language_info": {
   "codemirror_mode": {
    "name": "ipython",
    "version": 3
   },
   "file_extension": ".py",
   "mimetype": "text/x-python",
   "name": "python",
   "nbconvert_exporter": "python",
   "pygments_lexer": "ipython3",
   "version": "3.11.5"
  }
 },
 "nbformat": 4,
 "nbformat_minor": 2
}
